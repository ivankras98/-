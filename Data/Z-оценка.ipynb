{
 "cells": [
  {
   "cell_type": "code",
   "execution_count": 6,
   "id": "07c559b2",
   "metadata": {},
   "outputs": [
    {
     "name": "stdout",
     "output_type": "stream",
     "text": [
      "<class 'pandas.core.frame.DataFrame'>\n",
      "RangeIndex: 16376 entries, 0 to 16375\n",
      "Data columns (total 7 columns):\n",
      " #   Column            Non-Null Count  Dtype  \n",
      "---  ------            --------------  -----  \n",
      " 0   name              16376 non-null  object \n",
      " 1   align             13564 non-null  object \n",
      " 2   eye               6609 non-null   object \n",
      " 3   hair              9989 non-null   object \n",
      " 4   sex               15522 non-null  object \n",
      " 5   appearances       15280 non-null  float64\n",
      " 6   first_appearance  15561 non-null  float64\n",
      "dtypes: float64(2), object(5)\n",
      "memory usage: 895.7+ KB\n"
     ]
    }
   ],
   "source": [
    "import pandas as pd\n",
    "import numpy as np\n",
    "import matplotlib.pyplot as plt\n",
    "df = pd.read_excel('../MarvelComicCaracters.xlsx')\n",
    "df.head()\n",
    "df.shape\n",
    "df.info()"
   ]
  },
  {
   "cell_type": "code",
   "execution_count": 3,
   "id": "72597da6",
   "metadata": {},
   "outputs": [
    {
     "data": {
      "text/plain": [
       "(1096, 7)"
      ]
     },
     "execution_count": 3,
     "metadata": {},
     "output_type": "execute_result"
    }
   ],
   "source": [
    "#Сколько пропущенных значений в переменной appearances? Выберите один верный ответ.\n",
    "df[df['appearances'].isna()].shape"
   ]
  },
  {
   "cell_type": "code",
   "execution_count": 8,
   "id": "2542cbea",
   "metadata": {},
   "outputs": [
    {
     "data": {
      "text/plain": [
       "(15280, 7)"
      ]
     },
     "execution_count": 8,
     "metadata": {},
     "output_type": "execute_result"
    }
   ],
   "source": [
    "#Укажите, верно ли следующее утверждение: наибольший межквартильный размах по переменной\n",
    "#appearances будет для злых персонажей. Вам понадобятся данные по типу персонажа (переменная\n",
    "#align), удалите пропущенные значения по столбцу appearances и посчитайте требуемую меру разброса.\n",
    "\n",
    "df1 = df.dropna(subset=['appearances'])#удалите пропущенные значения по столбцу appearances \n",
    "\n",
    "df1.shape"
   ]
  },
  {
   "cell_type": "code",
   "execution_count": 9,
   "id": "8978cb89",
   "metadata": {},
   "outputs": [],
   "source": [
    "df_zloi=df1[df1['align'] == 'Злой персонаж']"
   ]
  },
  {
   "cell_type": "code",
   "execution_count": 20,
   "id": "9ca74bd9",
   "metadata": {},
   "outputs": [
    {
     "data": {
      "text/plain": [
       "5.0"
      ]
     },
     "execution_count": 20,
     "metadata": {},
     "output_type": "execute_result"
    }
   ],
   "source": [
    " #Разница между нижним (0.25) и верхним (0.75) квартилями называется межквартильным размахом\n",
    "    # интерквартильный размах он же\n",
    "df_zloi['appearances'].quantile(0.75) - df_zloi['appearances'].quantile(0.25)# для злых"
   ]
  },
  {
   "cell_type": "code",
   "execution_count": 25,
   "id": "f0ac18d9",
   "metadata": {},
   "outputs": [],
   "source": [
    "df_dobryi=df1[df1['align'] == 'Добрый персонаж']"
   ]
  },
  {
   "cell_type": "code",
   "execution_count": 26,
   "id": "c004a0f8",
   "metadata": {},
   "outputs": [
    {
     "data": {
      "text/plain": [
       "13.0"
      ]
     },
     "execution_count": 26,
     "metadata": {},
     "output_type": "execute_result"
    }
   ],
   "source": [
    "df_dobryi['appearances'].quantile(0.75) - df_dobryi['appearances'].quantile(0.25)# для добрых"
   ]
  },
  {
   "cell_type": "code",
   "execution_count": 28,
   "id": "c4c38746",
   "metadata": {},
   "outputs": [
    {
     "data": {
      "text/plain": [
       "8.0"
      ]
     },
     "execution_count": 28,
     "metadata": {},
     "output_type": "execute_result"
    }
   ],
   "source": [
    "df_neytr=df1[df1['align'] == 'Нейтральный персонаж']\n",
    "df_neytr['appearances'].quantile(0.75) - df_neytr['appearances'].quantile(0.25)# для нейтральных"
   ]
  },
  {
   "cell_type": "code",
   "execution_count": 30,
   "id": "46a395ce",
   "metadata": {},
   "outputs": [],
   "source": [
    "# что такое выбросы https://www.codecamp.ru/blog/remove-outliers-python/\n",
    "#Сколько выбросов встречается по переменной appearances? Работайте с исходными данными,\n",
    "#предварительно удалите пропущенные значения по столбцу appearances, используйте для нахождения\n",
    "#выбросов межквартильный размах. Выберите один верный ответ\n"
   ]
  },
  {
   "cell_type": "code",
   "execution_count": 10,
   "id": "eb71e9e5",
   "metadata": {},
   "outputs": [],
   "source": [
    "IQR=df1['appearances'].quantile(0.75) - df1['appearances'].quantile(0.25)"
   ]
  },
  {
   "cell_type": "code",
   "execution_count": 12,
   "id": "1a49c41d",
   "metadata": {},
   "outputs": [
    {
     "data": {
      "text/plain": [
       "18.5"
      ]
     },
     "execution_count": 12,
     "metadata": {},
     "output_type": "execute_result"
    }
   ],
   "source": [
    "df1['appearances'].quantile(0.75)+1.5*IQR"
   ]
  },
  {
   "cell_type": "code",
   "execution_count": 11,
   "id": "7a42b534",
   "metadata": {
    "scrolled": true
   },
   "outputs": [
    {
     "data": {
      "text/html": [
       "<div>\n",
       "<style scoped>\n",
       "    .dataframe tbody tr th:only-of-type {\n",
       "        vertical-align: middle;\n",
       "    }\n",
       "\n",
       "    .dataframe tbody tr th {\n",
       "        vertical-align: top;\n",
       "    }\n",
       "\n",
       "    .dataframe thead th {\n",
       "        text-align: right;\n",
       "    }\n",
       "</style>\n",
       "<table border=\"1\" class=\"dataframe\">\n",
       "  <thead>\n",
       "    <tr style=\"text-align: right;\">\n",
       "      <th></th>\n",
       "      <th>name</th>\n",
       "      <th>align</th>\n",
       "      <th>eye</th>\n",
       "      <th>hair</th>\n",
       "      <th>sex</th>\n",
       "      <th>appearances</th>\n",
       "      <th>first_appearance</th>\n",
       "    </tr>\n",
       "  </thead>\n",
       "  <tbody>\n",
       "    <tr>\n",
       "      <th>0</th>\n",
       "      <td>Spider-Man (Peter Parker)</td>\n",
       "      <td>Добрый персонаж</td>\n",
       "      <td>Карие глаза</td>\n",
       "      <td>Каштановые волосы</td>\n",
       "      <td>Мужской персонаж</td>\n",
       "      <td>4043.0</td>\n",
       "      <td>1962.0</td>\n",
       "    </tr>\n",
       "    <tr>\n",
       "      <th>1</th>\n",
       "      <td>Captain America (Steven Rogers)</td>\n",
       "      <td>Добрый персонаж</td>\n",
       "      <td>Голубые глаза</td>\n",
       "      <td>Белые волосы</td>\n",
       "      <td>Мужской персонаж</td>\n",
       "      <td>3360.0</td>\n",
       "      <td>1941.0</td>\n",
       "    </tr>\n",
       "    <tr>\n",
       "      <th>2</th>\n",
       "      <td>Wolverine (James \\\"Logan\\\" Howlett)</td>\n",
       "      <td>Нейтральный персонаж</td>\n",
       "      <td>Голубые глаза</td>\n",
       "      <td>Черные волосы</td>\n",
       "      <td>Мужской персонаж</td>\n",
       "      <td>3061.0</td>\n",
       "      <td>1974.0</td>\n",
       "    </tr>\n",
       "    <tr>\n",
       "      <th>3</th>\n",
       "      <td>Iron Man (Anthony \\\"Tony\\\" Stark)</td>\n",
       "      <td>Добрый персонаж</td>\n",
       "      <td>Голубые глаза</td>\n",
       "      <td>Черные волосы</td>\n",
       "      <td>Мужской персонаж</td>\n",
       "      <td>2961.0</td>\n",
       "      <td>1963.0</td>\n",
       "    </tr>\n",
       "    <tr>\n",
       "      <th>4</th>\n",
       "      <td>Thor (Thor Odinson)</td>\n",
       "      <td>Добрый персонаж</td>\n",
       "      <td>Голубые глаза</td>\n",
       "      <td>Русые волосы</td>\n",
       "      <td>Мужской персонаж</td>\n",
       "      <td>2258.0</td>\n",
       "      <td>1950.0</td>\n",
       "    </tr>\n",
       "    <tr>\n",
       "      <th>...</th>\n",
       "      <td>...</td>\n",
       "      <td>...</td>\n",
       "      <td>...</td>\n",
       "      <td>...</td>\n",
       "      <td>...</td>\n",
       "      <td>...</td>\n",
       "      <td>...</td>\n",
       "    </tr>\n",
       "    <tr>\n",
       "      <th>1933</th>\n",
       "      <td>Annie (LMD) (Earth-616)</td>\n",
       "      <td>Добрый персонаж</td>\n",
       "      <td>Зеленые глаза</td>\n",
       "      <td>NaN</td>\n",
       "      <td>Женский персонаж</td>\n",
       "      <td>19.0</td>\n",
       "      <td>2011.0</td>\n",
       "    </tr>\n",
       "    <tr>\n",
       "      <th>1934</th>\n",
       "      <td>George Tarleton (M.O.D.O.K. Superior) (Earth-616)</td>\n",
       "      <td>Злой персонаж</td>\n",
       "      <td>Белые глаза</td>\n",
       "      <td>NaN</td>\n",
       "      <td>Мужской персонаж</td>\n",
       "      <td>19.0</td>\n",
       "      <td>2011.0</td>\n",
       "    </tr>\n",
       "    <tr>\n",
       "      <th>1935</th>\n",
       "      <td>Drusilla (Earth-616)</td>\n",
       "      <td>Добрый персонаж</td>\n",
       "      <td>Черные глаза</td>\n",
       "      <td>Черные волосы</td>\n",
       "      <td>Женский персонаж</td>\n",
       "      <td>19.0</td>\n",
       "      <td>2013.0</td>\n",
       "    </tr>\n",
       "    <tr>\n",
       "      <th>1936</th>\n",
       "      <td>Tamara Devoux (Earth-616)</td>\n",
       "      <td>Добрый персонаж</td>\n",
       "      <td>Темно-карие глаза</td>\n",
       "      <td>Черные волосы</td>\n",
       "      <td>Женский персонаж</td>\n",
       "      <td>19.0</td>\n",
       "      <td>2013.0</td>\n",
       "    </tr>\n",
       "    <tr>\n",
       "      <th>1937</th>\n",
       "      <td>Shogo Lee (Earth-616)</td>\n",
       "      <td>Нейтральный персонаж</td>\n",
       "      <td>Темно-карие глаза</td>\n",
       "      <td>Черные волосы</td>\n",
       "      <td>Мужской персонаж</td>\n",
       "      <td>19.0</td>\n",
       "      <td>NaN</td>\n",
       "    </tr>\n",
       "  </tbody>\n",
       "</table>\n",
       "<p>1938 rows × 7 columns</p>\n",
       "</div>"
      ],
      "text/plain": [
       "                                                   name                 align  \\\n",
       "0                             Spider-Man (Peter Parker)       Добрый персонаж   \n",
       "1                       Captain America (Steven Rogers)       Добрый персонаж   \n",
       "2                   Wolverine (James \\\"Logan\\\" Howlett)  Нейтральный персонаж   \n",
       "3                     Iron Man (Anthony \\\"Tony\\\" Stark)       Добрый персонаж   \n",
       "4                                   Thor (Thor Odinson)       Добрый персонаж   \n",
       "...                                                 ...                   ...   \n",
       "1933                            Annie (LMD) (Earth-616)       Добрый персонаж   \n",
       "1934  George Tarleton (M.O.D.O.K. Superior) (Earth-616)         Злой персонаж   \n",
       "1935                               Drusilla (Earth-616)       Добрый персонаж   \n",
       "1936                          Tamara Devoux (Earth-616)       Добрый персонаж   \n",
       "1937                              Shogo Lee (Earth-616)  Нейтральный персонаж   \n",
       "\n",
       "                    eye               hair               sex  appearances  \\\n",
       "0           Карие глаза  Каштановые волосы  Мужской персонаж       4043.0   \n",
       "1         Голубые глаза       Белые волосы  Мужской персонаж       3360.0   \n",
       "2         Голубые глаза      Черные волосы  Мужской персонаж       3061.0   \n",
       "3         Голубые глаза      Черные волосы  Мужской персонаж       2961.0   \n",
       "4         Голубые глаза       Русые волосы  Мужской персонаж       2258.0   \n",
       "...                 ...                ...               ...          ...   \n",
       "1933      Зеленые глаза                NaN  Женский персонаж         19.0   \n",
       "1934        Белые глаза                NaN  Мужской персонаж         19.0   \n",
       "1935       Черные глаза      Черные волосы  Женский персонаж         19.0   \n",
       "1936  Темно-карие глаза      Черные волосы  Женский персонаж         19.0   \n",
       "1937  Темно-карие глаза      Черные волосы  Мужской персонаж         19.0   \n",
       "\n",
       "      first_appearance  \n",
       "0               1962.0  \n",
       "1               1941.0  \n",
       "2               1974.0  \n",
       "3               1963.0  \n",
       "4               1950.0  \n",
       "...                ...  \n",
       "1933            2011.0  \n",
       "1934            2011.0  \n",
       "1935            2013.0  \n",
       "1936            2013.0  \n",
       "1937               NaN  \n",
       "\n",
       "[1938 rows x 7 columns]"
      ]
     },
     "execution_count": 11,
     "metadata": {},
     "output_type": "execute_result"
    }
   ],
   "source": [
    "#Выбросы = наблюдения > Q3 + 1,5*IQR или Q1 – 1,5*IQR\n",
    "df1[df1['appearances'] > df1['appearances'].quantile(0.75)+1.5*IQR]\n",
    "# ответ 1938 "
   ]
  },
  {
   "cell_type": "code",
   "execution_count": 13,
   "id": "57026818",
   "metadata": {},
   "outputs": [],
   "source": [
    "#Укажите, верно ли следующее утверждение: наибольшее количество выбросов по переменной\n",
    "#appearances наблюдается у добрых персонажей.\n",
    "df_dobryi=df1[df1['align'] == 'Добрый персонаж']\n",
    "df_ney=df1[df1['align'] == 'Нейтральный персонаж']\n",
    "df_zloi=df1[df1['align'] == 'Злой персонаж']"
   ]
  },
  {
   "cell_type": "code",
   "execution_count": 14,
   "id": "11d608de",
   "metadata": {},
   "outputs": [
    {
     "data": {
      "text/html": [
       "<div>\n",
       "<style scoped>\n",
       "    .dataframe tbody tr th:only-of-type {\n",
       "        vertical-align: middle;\n",
       "    }\n",
       "\n",
       "    .dataframe tbody tr th {\n",
       "        vertical-align: top;\n",
       "    }\n",
       "\n",
       "    .dataframe thead th {\n",
       "        text-align: right;\n",
       "    }\n",
       "</style>\n",
       "<table border=\"1\" class=\"dataframe\">\n",
       "  <thead>\n",
       "    <tr style=\"text-align: right;\">\n",
       "      <th></th>\n",
       "      <th>name</th>\n",
       "      <th>align</th>\n",
       "      <th>eye</th>\n",
       "      <th>hair</th>\n",
       "      <th>sex</th>\n",
       "      <th>appearances</th>\n",
       "      <th>first_appearance</th>\n",
       "    </tr>\n",
       "  </thead>\n",
       "  <tbody>\n",
       "    <tr>\n",
       "      <th>0</th>\n",
       "      <td>Spider-Man (Peter Parker)</td>\n",
       "      <td>Добрый персонаж</td>\n",
       "      <td>Карие глаза</td>\n",
       "      <td>Каштановые волосы</td>\n",
       "      <td>Мужской персонаж</td>\n",
       "      <td>4043.0</td>\n",
       "      <td>1962.0</td>\n",
       "    </tr>\n",
       "    <tr>\n",
       "      <th>1</th>\n",
       "      <td>Captain America (Steven Rogers)</td>\n",
       "      <td>Добрый персонаж</td>\n",
       "      <td>Голубые глаза</td>\n",
       "      <td>Белые волосы</td>\n",
       "      <td>Мужской персонаж</td>\n",
       "      <td>3360.0</td>\n",
       "      <td>1941.0</td>\n",
       "    </tr>\n",
       "    <tr>\n",
       "      <th>3</th>\n",
       "      <td>Iron Man (Anthony \\\"Tony\\\" Stark)</td>\n",
       "      <td>Добрый персонаж</td>\n",
       "      <td>Голубые глаза</td>\n",
       "      <td>Черные волосы</td>\n",
       "      <td>Мужской персонаж</td>\n",
       "      <td>2961.0</td>\n",
       "      <td>1963.0</td>\n",
       "    </tr>\n",
       "    <tr>\n",
       "      <th>4</th>\n",
       "      <td>Thor (Thor Odinson)</td>\n",
       "      <td>Добрый персонаж</td>\n",
       "      <td>Голубые глаза</td>\n",
       "      <td>Русые волосы</td>\n",
       "      <td>Мужской персонаж</td>\n",
       "      <td>2258.0</td>\n",
       "      <td>1950.0</td>\n",
       "    </tr>\n",
       "    <tr>\n",
       "      <th>5</th>\n",
       "      <td>Benjamin Grimm (Earth-616)</td>\n",
       "      <td>Добрый персонаж</td>\n",
       "      <td>Голубые глаза</td>\n",
       "      <td>Без волос</td>\n",
       "      <td>Мужской персонаж</td>\n",
       "      <td>2255.0</td>\n",
       "      <td>1961.0</td>\n",
       "    </tr>\n",
       "    <tr>\n",
       "      <th>...</th>\n",
       "      <td>...</td>\n",
       "      <td>...</td>\n",
       "      <td>...</td>\n",
       "      <td>...</td>\n",
       "      <td>...</td>\n",
       "      <td>...</td>\n",
       "      <td>...</td>\n",
       "    </tr>\n",
       "    <tr>\n",
       "      <th>1450</th>\n",
       "      <td>Darla Deering (Earth-616)</td>\n",
       "      <td>Добрый персонаж</td>\n",
       "      <td>Темно-карие глаза</td>\n",
       "      <td>Розовые волосы</td>\n",
       "      <td>Женский персонаж</td>\n",
       "      <td>26.0</td>\n",
       "      <td>2012.0</td>\n",
       "    </tr>\n",
       "    <tr>\n",
       "      <th>1451</th>\n",
       "      <td>Jia Jing (Earth-616)</td>\n",
       "      <td>Добрый персонаж</td>\n",
       "      <td>Темно-карие глаза</td>\n",
       "      <td>Черные волосы</td>\n",
       "      <td>Женский персонаж</td>\n",
       "      <td>26.0</td>\n",
       "      <td>2012.0</td>\n",
       "    </tr>\n",
       "    <tr>\n",
       "      <th>1452</th>\n",
       "      <td>Trevor Hawkins (Earth-616)</td>\n",
       "      <td>Добрый персонаж</td>\n",
       "      <td>Голубые глаза</td>\n",
       "      <td>Русые волосы</td>\n",
       "      <td>Мужской персонаж</td>\n",
       "      <td>26.0</td>\n",
       "      <td>2012.0</td>\n",
       "    </tr>\n",
       "    <tr>\n",
       "      <th>1453</th>\n",
       "      <td>Anna Maria Marconi (Earth-616)</td>\n",
       "      <td>Добрый персонаж</td>\n",
       "      <td>Темно-карие глаза</td>\n",
       "      <td>Черные волосы</td>\n",
       "      <td>Женский персонаж</td>\n",
       "      <td>26.0</td>\n",
       "      <td>2013.0</td>\n",
       "    </tr>\n",
       "    <tr>\n",
       "      <th>1454</th>\n",
       "      <td>Leonard McKenzie (Earth-616)</td>\n",
       "      <td>Добрый персонаж</td>\n",
       "      <td>Темно-карие глаза</td>\n",
       "      <td>Черные волосы</td>\n",
       "      <td>Мужской персонаж</td>\n",
       "      <td>26.0</td>\n",
       "      <td>NaN</td>\n",
       "    </tr>\n",
       "  </tbody>\n",
       "</table>\n",
       "<p>737 rows × 7 columns</p>\n",
       "</div>"
      ],
      "text/plain": [
       "                                   name            align                eye  \\\n",
       "0             Spider-Man (Peter Parker)  Добрый персонаж        Карие глаза   \n",
       "1       Captain America (Steven Rogers)  Добрый персонаж      Голубые глаза   \n",
       "3     Iron Man (Anthony \\\"Tony\\\" Stark)  Добрый персонаж      Голубые глаза   \n",
       "4                   Thor (Thor Odinson)  Добрый персонаж      Голубые глаза   \n",
       "5            Benjamin Grimm (Earth-616)  Добрый персонаж      Голубые глаза   \n",
       "...                                 ...              ...                ...   \n",
       "1450          Darla Deering (Earth-616)  Добрый персонаж  Темно-карие глаза   \n",
       "1451               Jia Jing (Earth-616)  Добрый персонаж  Темно-карие глаза   \n",
       "1452         Trevor Hawkins (Earth-616)  Добрый персонаж      Голубые глаза   \n",
       "1453     Anna Maria Marconi (Earth-616)  Добрый персонаж  Темно-карие глаза   \n",
       "1454       Leonard McKenzie (Earth-616)  Добрый персонаж  Темно-карие глаза   \n",
       "\n",
       "                   hair               sex  appearances  first_appearance  \n",
       "0     Каштановые волосы  Мужской персонаж       4043.0            1962.0  \n",
       "1          Белые волосы  Мужской персонаж       3360.0            1941.0  \n",
       "3         Черные волосы  Мужской персонаж       2961.0            1963.0  \n",
       "4          Русые волосы  Мужской персонаж       2258.0            1950.0  \n",
       "5             Без волос  Мужской персонаж       2255.0            1961.0  \n",
       "...                 ...               ...          ...               ...  \n",
       "1450     Розовые волосы  Женский персонаж         26.0            2012.0  \n",
       "1451      Черные волосы  Женский персонаж         26.0            2012.0  \n",
       "1452       Русые волосы  Мужской персонаж         26.0            2012.0  \n",
       "1453      Черные волосы  Женский персонаж         26.0            2013.0  \n",
       "1454      Черные волосы  Мужской персонаж         26.0               NaN  \n",
       "\n",
       "[737 rows x 7 columns]"
      ]
     },
     "execution_count": 14,
     "metadata": {},
     "output_type": "execute_result"
    }
   ],
   "source": [
    "#Выбросы = наблюдения > Q3 + 1,5*IQR или Q1 – 1,5*IQR\n",
    "IQR_d=df_dobryi['appearances'].quantile(0.75) - df_dobryi['appearances'].quantile(0.25)\n",
    "df_dobryi[df_dobryi['appearances'] >df_dobryi['appearances'].quantile(0.75)+1.5*IQR]"
   ]
  },
  {
   "cell_type": "code",
   "execution_count": 15,
   "id": "70b39bd8",
   "metadata": {},
   "outputs": [],
   "source": [
    "IQR_z=df_zloi['appearances'].quantile(0.75) - df_zloi['appearances'].quantile(0.25)"
   ]
  },
  {
   "cell_type": "code",
   "execution_count": 16,
   "id": "4579792d",
   "metadata": {},
   "outputs": [
    {
     "data": {
      "text/html": [
       "<div>\n",
       "<style scoped>\n",
       "    .dataframe tbody tr th:only-of-type {\n",
       "        vertical-align: middle;\n",
       "    }\n",
       "\n",
       "    .dataframe tbody tr th {\n",
       "        vertical-align: top;\n",
       "    }\n",
       "\n",
       "    .dataframe thead th {\n",
       "        text-align: right;\n",
       "    }\n",
       "</style>\n",
       "<table border=\"1\" class=\"dataframe\">\n",
       "  <thead>\n",
       "    <tr style=\"text-align: right;\">\n",
       "      <th></th>\n",
       "      <th>name</th>\n",
       "      <th>align</th>\n",
       "      <th>eye</th>\n",
       "      <th>hair</th>\n",
       "      <th>sex</th>\n",
       "      <th>appearances</th>\n",
       "      <th>first_appearance</th>\n",
       "    </tr>\n",
       "  </thead>\n",
       "  <tbody>\n",
       "    <tr>\n",
       "      <th>43</th>\n",
       "      <td>Victor von Doom (Earth-616)</td>\n",
       "      <td>Злой персонаж</td>\n",
       "      <td>Темно-карие глаза</td>\n",
       "      <td>Каштановые волосы</td>\n",
       "      <td>Мужской персонаж</td>\n",
       "      <td>721.0</td>\n",
       "      <td>1962.0</td>\n",
       "    </tr>\n",
       "    <tr>\n",
       "      <th>47</th>\n",
       "      <td>Norman Osborn (Earth-616)</td>\n",
       "      <td>Злой персонаж</td>\n",
       "      <td>Голубые глаза</td>\n",
       "      <td>NaN</td>\n",
       "      <td>Мужской персонаж</td>\n",
       "      <td>692.0</td>\n",
       "      <td>1964.0</td>\n",
       "    </tr>\n",
       "    <tr>\n",
       "      <th>69</th>\n",
       "      <td>Wilson Fisk (Earth-616)</td>\n",
       "      <td>Злой персонаж</td>\n",
       "      <td>Голубые глаза</td>\n",
       "      <td>NaN</td>\n",
       "      <td>Мужской персонаж</td>\n",
       "      <td>503.0</td>\n",
       "      <td>1967.0</td>\n",
       "    </tr>\n",
       "    <tr>\n",
       "      <th>92</th>\n",
       "      <td>Sabretooth (Victor Creed)</td>\n",
       "      <td>Злой персонаж</td>\n",
       "      <td>Янтарные глаза</td>\n",
       "      <td>Русые волосы</td>\n",
       "      <td>Мужской персонаж</td>\n",
       "      <td>382.0</td>\n",
       "      <td>1977.0</td>\n",
       "    </tr>\n",
       "    <tr>\n",
       "      <th>94</th>\n",
       "      <td>Johann Shmidt (Earth-616)</td>\n",
       "      <td>Злой персонаж</td>\n",
       "      <td>Голубые глаза</td>\n",
       "      <td>Русые волосы</td>\n",
       "      <td>Мужской персонаж</td>\n",
       "      <td>376.0</td>\n",
       "      <td>1941.0</td>\n",
       "    </tr>\n",
       "    <tr>\n",
       "      <th>...</th>\n",
       "      <td>...</td>\n",
       "      <td>...</td>\n",
       "      <td>...</td>\n",
       "      <td>...</td>\n",
       "      <td>...</td>\n",
       "      <td>...</td>\n",
       "      <td>...</td>\n",
       "    </tr>\n",
       "    <tr>\n",
       "      <th>2540</th>\n",
       "      <td>Daniel DuBois (Earth-616)</td>\n",
       "      <td>Злой персонаж</td>\n",
       "      <td>Темно-карие глаза</td>\n",
       "      <td>Каштановые волосы</td>\n",
       "      <td>Мужской персонаж</td>\n",
       "      <td>14.0</td>\n",
       "      <td>2009.0</td>\n",
       "    </tr>\n",
       "    <tr>\n",
       "      <th>2541</th>\n",
       "      <td>Daniel Whitehall (Earth-616)</td>\n",
       "      <td>Злой персонаж</td>\n",
       "      <td>NaN</td>\n",
       "      <td>Каштановые волосы</td>\n",
       "      <td>Мужской персонаж</td>\n",
       "      <td>14.0</td>\n",
       "      <td>2009.0</td>\n",
       "    </tr>\n",
       "    <tr>\n",
       "      <th>2542</th>\n",
       "      <td>James Natale (Earth-616)</td>\n",
       "      <td>Злой персонаж</td>\n",
       "      <td>Желтые глаза</td>\n",
       "      <td>Каштановые волосы</td>\n",
       "      <td>Мужской персонаж</td>\n",
       "      <td>14.0</td>\n",
       "      <td>2009.0</td>\n",
       "    </tr>\n",
       "    <tr>\n",
       "      <th>2548</th>\n",
       "      <td>Recorder 451 (Earth-616)</td>\n",
       "      <td>Злой персонаж</td>\n",
       "      <td>Красные глаза</td>\n",
       "      <td>Без волос</td>\n",
       "      <td>Безполый персонаж</td>\n",
       "      <td>14.0</td>\n",
       "      <td>2013.0</td>\n",
       "    </tr>\n",
       "    <tr>\n",
       "      <th>2549</th>\n",
       "      <td>Perrikus (Earth-616)</td>\n",
       "      <td>Злой персонаж</td>\n",
       "      <td>Красные глаза</td>\n",
       "      <td>NaN</td>\n",
       "      <td>Мужской персонаж</td>\n",
       "      <td>14.0</td>\n",
       "      <td>NaN</td>\n",
       "    </tr>\n",
       "  </tbody>\n",
       "</table>\n",
       "<p>748 rows × 7 columns</p>\n",
       "</div>"
      ],
      "text/plain": [
       "                              name          align                eye  \\\n",
       "43     Victor von Doom (Earth-616)  Злой персонаж  Темно-карие глаза   \n",
       "47       Norman Osborn (Earth-616)  Злой персонаж      Голубые глаза   \n",
       "69         Wilson Fisk (Earth-616)  Злой персонаж      Голубые глаза   \n",
       "92       Sabretooth (Victor Creed)  Злой персонаж     Янтарные глаза   \n",
       "94       Johann Shmidt (Earth-616)  Злой персонаж      Голубые глаза   \n",
       "...                            ...            ...                ...   \n",
       "2540     Daniel DuBois (Earth-616)  Злой персонаж  Темно-карие глаза   \n",
       "2541  Daniel Whitehall (Earth-616)  Злой персонаж                NaN   \n",
       "2542      James Natale (Earth-616)  Злой персонаж       Желтые глаза   \n",
       "2548      Recorder 451 (Earth-616)  Злой персонаж      Красные глаза   \n",
       "2549          Perrikus (Earth-616)  Злой персонаж      Красные глаза   \n",
       "\n",
       "                   hair                sex  appearances  first_appearance  \n",
       "43    Каштановые волосы   Мужской персонаж        721.0            1962.0  \n",
       "47                  NaN   Мужской персонаж        692.0            1964.0  \n",
       "69                  NaN   Мужской персонаж        503.0            1967.0  \n",
       "92         Русые волосы   Мужской персонаж        382.0            1977.0  \n",
       "94         Русые волосы   Мужской персонаж        376.0            1941.0  \n",
       "...                 ...                ...          ...               ...  \n",
       "2540  Каштановые волосы   Мужской персонаж         14.0            2009.0  \n",
       "2541  Каштановые волосы   Мужской персонаж         14.0            2009.0  \n",
       "2542  Каштановые волосы   Мужской персонаж         14.0            2009.0  \n",
       "2548          Без волос  Безполый персонаж         14.0            2013.0  \n",
       "2549                NaN   Мужской персонаж         14.0               NaN  \n",
       "\n",
       "[748 rows x 7 columns]"
      ]
     },
     "execution_count": 16,
     "metadata": {},
     "output_type": "execute_result"
    }
   ],
   "source": [
    "df_zloi[df_zloi['appearances'] >df_zloi['appearances'].quantile(0.75)+1.5*IQR_z]# ответ 748"
   ]
  },
  {
   "cell_type": "code",
   "execution_count": 17,
   "id": "a1a6b191",
   "metadata": {},
   "outputs": [],
   "source": [
    "IQR_n=df_ney['appearances'].quantile(0.75) - df_ney['appearances'].quantile(0.25)"
   ]
  },
  {
   "cell_type": "code",
   "execution_count": 18,
   "id": "ac05b8b6",
   "metadata": {},
   "outputs": [
    {
     "data": {
      "text/html": [
       "<div>\n",
       "<style scoped>\n",
       "    .dataframe tbody tr th:only-of-type {\n",
       "        vertical-align: middle;\n",
       "    }\n",
       "\n",
       "    .dataframe tbody tr th {\n",
       "        vertical-align: top;\n",
       "    }\n",
       "\n",
       "    .dataframe thead th {\n",
       "        text-align: right;\n",
       "    }\n",
       "</style>\n",
       "<table border=\"1\" class=\"dataframe\">\n",
       "  <thead>\n",
       "    <tr style=\"text-align: right;\">\n",
       "      <th></th>\n",
       "      <th>name</th>\n",
       "      <th>align</th>\n",
       "      <th>eye</th>\n",
       "      <th>hair</th>\n",
       "      <th>sex</th>\n",
       "      <th>appearances</th>\n",
       "      <th>first_appearance</th>\n",
       "    </tr>\n",
       "  </thead>\n",
       "  <tbody>\n",
       "    <tr>\n",
       "      <th>2</th>\n",
       "      <td>Wolverine (James \\\"Logan\\\" Howlett)</td>\n",
       "      <td>Нейтральный персонаж</td>\n",
       "      <td>Голубые глаза</td>\n",
       "      <td>Черные волосы</td>\n",
       "      <td>Мужской персонаж</td>\n",
       "      <td>3061.0</td>\n",
       "      <td>1974.0</td>\n",
       "    </tr>\n",
       "    <tr>\n",
       "      <th>8</th>\n",
       "      <td>Scott Summers (Earth-616)</td>\n",
       "      <td>Нейтральный персонаж</td>\n",
       "      <td>Темно-карие глаза</td>\n",
       "      <td>Каштановые волосы</td>\n",
       "      <td>Мужской персонаж</td>\n",
       "      <td>1955.0</td>\n",
       "      <td>1963.0</td>\n",
       "    </tr>\n",
       "    <tr>\n",
       "      <th>12</th>\n",
       "      <td>Namor McKenzie (Earth-616)</td>\n",
       "      <td>Нейтральный персонаж</td>\n",
       "      <td>Зеленые глаза</td>\n",
       "      <td>Черные волосы</td>\n",
       "      <td>Мужской персонаж</td>\n",
       "      <td>1528.0</td>\n",
       "      <td>NaN</td>\n",
       "    </tr>\n",
       "    <tr>\n",
       "      <th>18</th>\n",
       "      <td>John Jonah Jameson (Earth-616)</td>\n",
       "      <td>Нейтральный персонаж</td>\n",
       "      <td>Голубые глаза</td>\n",
       "      <td>Черные волосы</td>\n",
       "      <td>Мужской персонаж</td>\n",
       "      <td>1266.0</td>\n",
       "      <td>1963.0</td>\n",
       "    </tr>\n",
       "    <tr>\n",
       "      <th>25</th>\n",
       "      <td>Nicholas Fury (Earth-616)</td>\n",
       "      <td>Нейтральный персонаж</td>\n",
       "      <td>Темно-карие глаза</td>\n",
       "      <td>Каштановые волосы</td>\n",
       "      <td>Мужской персонаж</td>\n",
       "      <td>1137.0</td>\n",
       "      <td>1963.0</td>\n",
       "    </tr>\n",
       "    <tr>\n",
       "      <th>...</th>\n",
       "      <td>...</td>\n",
       "      <td>...</td>\n",
       "      <td>...</td>\n",
       "      <td>...</td>\n",
       "      <td>...</td>\n",
       "      <td>...</td>\n",
       "      <td>...</td>\n",
       "    </tr>\n",
       "    <tr>\n",
       "      <th>1674</th>\n",
       "      <td>Donna Diego (Earth-616)</td>\n",
       "      <td>Нейтральный персонаж</td>\n",
       "      <td>Зеленые глаза</td>\n",
       "      <td>NaN</td>\n",
       "      <td>Женский персонаж</td>\n",
       "      <td>22.0</td>\n",
       "      <td>1993.0</td>\n",
       "    </tr>\n",
       "    <tr>\n",
       "      <th>1676</th>\n",
       "      <td>Jean-Luc LeBeau (Earth-616)</td>\n",
       "      <td>Нейтральный персонаж</td>\n",
       "      <td>Темно-карие глаза</td>\n",
       "      <td>Каштановые волосы</td>\n",
       "      <td>Мужской персонаж</td>\n",
       "      <td>22.0</td>\n",
       "      <td>1993.0</td>\n",
       "    </tr>\n",
       "    <tr>\n",
       "      <th>1682</th>\n",
       "      <td>Gregory Herd (Earth-616)</td>\n",
       "      <td>Нейтральный персонаж</td>\n",
       "      <td>Голубые глаза</td>\n",
       "      <td>Черные волосы</td>\n",
       "      <td>Мужской персонаж</td>\n",
       "      <td>22.0</td>\n",
       "      <td>1995.0</td>\n",
       "    </tr>\n",
       "    <tr>\n",
       "      <th>1688</th>\n",
       "      <td>Litterbug (Earth-616)</td>\n",
       "      <td>Нейтральный персонаж</td>\n",
       "      <td>Красные глаза</td>\n",
       "      <td>Без волос</td>\n",
       "      <td>Мужской персонаж</td>\n",
       "      <td>22.0</td>\n",
       "      <td>2002.0</td>\n",
       "    </tr>\n",
       "    <tr>\n",
       "      <th>1689</th>\n",
       "      <td>Gabriel Stacy (Earth-616)</td>\n",
       "      <td>Нейтральный персонаж</td>\n",
       "      <td>Темно-карие глаза</td>\n",
       "      <td>Каштановые волосы</td>\n",
       "      <td>Мужской персонаж</td>\n",
       "      <td>22.0</td>\n",
       "      <td>2004.0</td>\n",
       "    </tr>\n",
       "  </tbody>\n",
       "</table>\n",
       "<p>248 rows × 7 columns</p>\n",
       "</div>"
      ],
      "text/plain": [
       "                                     name                 align  \\\n",
       "2     Wolverine (James \\\"Logan\\\" Howlett)  Нейтральный персонаж   \n",
       "8               Scott Summers (Earth-616)  Нейтральный персонаж   \n",
       "12             Namor McKenzie (Earth-616)  Нейтральный персонаж   \n",
       "18         John Jonah Jameson (Earth-616)  Нейтральный персонаж   \n",
       "25              Nicholas Fury (Earth-616)  Нейтральный персонаж   \n",
       "...                                   ...                   ...   \n",
       "1674              Donna Diego (Earth-616)  Нейтральный персонаж   \n",
       "1676          Jean-Luc LeBeau (Earth-616)  Нейтральный персонаж   \n",
       "1682             Gregory Herd (Earth-616)  Нейтральный персонаж   \n",
       "1688                Litterbug (Earth-616)  Нейтральный персонаж   \n",
       "1689            Gabriel Stacy (Earth-616)  Нейтральный персонаж   \n",
       "\n",
       "                    eye               hair               sex  appearances  \\\n",
       "2         Голубые глаза      Черные волосы  Мужской персонаж       3061.0   \n",
       "8     Темно-карие глаза  Каштановые волосы  Мужской персонаж       1955.0   \n",
       "12        Зеленые глаза      Черные волосы  Мужской персонаж       1528.0   \n",
       "18        Голубые глаза      Черные волосы  Мужской персонаж       1266.0   \n",
       "25    Темно-карие глаза  Каштановые волосы  Мужской персонаж       1137.0   \n",
       "...                 ...                ...               ...          ...   \n",
       "1674      Зеленые глаза                NaN  Женский персонаж         22.0   \n",
       "1676  Темно-карие глаза  Каштановые волосы  Мужской персонаж         22.0   \n",
       "1682      Голубые глаза      Черные волосы  Мужской персонаж         22.0   \n",
       "1688      Красные глаза          Без волос  Мужской персонаж         22.0   \n",
       "1689  Темно-карие глаза  Каштановые волосы  Мужской персонаж         22.0   \n",
       "\n",
       "      first_appearance  \n",
       "2               1974.0  \n",
       "8               1963.0  \n",
       "12                 NaN  \n",
       "18              1963.0  \n",
       "25              1963.0  \n",
       "...                ...  \n",
       "1674            1993.0  \n",
       "1676            1993.0  \n",
       "1682            1995.0  \n",
       "1688            2002.0  \n",
       "1689            2004.0  \n",
       "\n",
       "[248 rows x 7 columns]"
      ]
     },
     "execution_count": 18,
     "metadata": {},
     "output_type": "execute_result"
    }
   ],
   "source": [
    "df_ney[df_ney['appearances'] >df_ney['appearances'].quantile(0.75)+1.5*IQR_n]"
   ]
  },
  {
   "cell_type": "code",
   "execution_count": null,
   "id": "bca35dee",
   "metadata": {},
   "outputs": [],
   "source": [
    "248-нейтр 748 злой 573 добрый - ответ неверно больше всего выбросов у злых - - не тАК"
   ]
  },
  {
   "cell_type": "code",
   "execution_count": null,
   "id": "c0674a0e",
   "metadata": {},
   "outputs": [],
   "source": [
    "#Для добрых персонажей этот показатель равен 944, для злых — 551, для нейтральных — 285.\n",
    "#Правильный ответ: Верно\n"
   ]
  },
  {
   "cell_type": "code",
   "execution_count": null,
   "id": "07f87020",
   "metadata": {},
   "outputs": [],
   "source": []
  },
  {
   "cell_type": "code",
   "execution_count": null,
   "id": "6c353410",
   "metadata": {},
   "outputs": [],
   "source": []
  },
  {
   "cell_type": "code",
   "execution_count": 19,
   "id": "e74f5e8a",
   "metadata": {},
   "outputs": [
    {
     "name": "stdout",
     "output_type": "stream",
     "text": [
      "944\n",
      "285\n",
      "551\n"
     ]
    }
   ],
   "source": [
    "#Выбросы = наблюдения > Q3 + 1,5*IQR или Q1 – 1,5*IQR\n",
    "\n",
    "df = pd.read_excel('../MarvelComicCaracters.xlsx')\n",
    "df1 = df.dropna(subset=['appearances'])  # удалите пропущенные значения по столбцу appearances\n",
    "IQR = df1['appearances'].quantile(0.75) - df1['appearances'].quantile(0.25)\n",
    "outlier = (df1['appearances'] > df1['appearances'].quantile(0.75) + 1.5*IQR) \\\n",
    "          | (df1['appearances'] < df1['appearances'].quantile(0.25) - 1.5*IQR)\n",
    "outlier\n",
    "print(((df1['align'] == 'Добрый персонаж') & outlier).sum())\n",
    "print(((df1['align'] == 'Нейтральный персонаж') & outlier).sum())\n",
    "print(((df1['align'] == 'Злой персонаж') & outlier).sum())"
   ]
  },
  {
   "cell_type": "code",
   "execution_count": 21,
   "id": "0f9ea955",
   "metadata": {},
   "outputs": [
    {
     "name": "stdout",
     "output_type": "stream",
     "text": [
      "0         True\n",
      "1         True\n",
      "2         True\n",
      "3         True\n",
      "4         True\n",
      "         ...  \n",
      "15275    False\n",
      "15276    False\n",
      "15277    False\n",
      "15278    False\n",
      "15279    False\n",
      "Name: appearances, Length: 15280, dtype: bool\n"
     ]
    }
   ],
   "source": [
    "outlier = (df1['appearances'] > df1['appearances'].quantile(0.75) + 1.5*IQR) \\\n",
    "          | (df1['appearances'] < df1['appearances'].quantile(0.25) - 1.5*IQR)\n",
    "print(outlier)"
   ]
  },
  {
   "cell_type": "code",
   "execution_count": 23,
   "id": "e249d52f",
   "metadata": {},
   "outputs": [
    {
     "name": "stdout",
     "output_type": "stream",
     "text": [
      "1.3444465650760924 1.341357279949188\n",
      "-2.6919824152790897 5.374696975177465\n"
     ]
    },
    {
     "name": "stderr",
     "output_type": "stream",
     "text": [
      "C:\\Users\\Slava\\AppData\\Local\\Temp\\ipykernel_7844\\4015801620.py:6: SettingWithCopyWarning: \n",
      "A value is trying to be set on a copy of a slice from a DataFrame.\n",
      "Try using .loc[row_indexer,col_indexer] = value instead\n",
      "\n",
      "See the caveats in the documentation: https://pandas.pydata.org/pandas-docs/stable/user_guide/indexing.html#returning-a-view-versus-a-copy\n",
      "  df1['app_log']=np.log(df1['appearances'])\n"
     ]
    },
    {
     "data": {
      "text/plain": [
       "195"
      ]
     },
     "execution_count": 23,
     "metadata": {},
     "output_type": "execute_result"
    }
   ],
   "source": [
    "#Создайте новую переменную, которая будет представлять собой прологарифмированную переменную\n",
    "#appearances. Сколько выбросов получится по новой переменной? Работайте с исходными данными,\n",
    "#предварительно удалите пропущенные значения по новому столбцу, используйте для нахождения\n",
    "#выбросов три среднеквадратичных отклонения от среднего. Введите ответ в виде целого числа\n",
    "#https://wiki.loginom.ru/articles/3-sigma-rule.html\n",
    "df1['app_log']=np.log(df1['appearances'])\n",
    "df2 = df1.dropna(subset=['app_log'])#удалите пропущенные значения по столбцу appearances \n",
    "std=df2['app_log'].std()\n",
    "mean=df2['app_log'].mean()\n",
    "print(std, mean)\n",
    "print(mean-std*3,mean+std*3)\n",
    "myif=(df2['app_log']>mean+std*3) | (df2['app_log']<mean-std*3)\n",
    "myif.sum() # ответ 195"
   ]
  },
  {
   "cell_type": "code",
   "execution_count": 24,
   "id": "45b1182d",
   "metadata": {},
   "outputs": [
    {
     "data": {
      "text/plain": [
       "0         True\n",
       "1         True\n",
       "2         True\n",
       "3         True\n",
       "4         True\n",
       "         ...  \n",
       "15275    False\n",
       "15276    False\n",
       "15277    False\n",
       "15278    False\n",
       "15279    False\n",
       "Name: app_log, Length: 15280, dtype: bool"
      ]
     },
     "execution_count": 24,
     "metadata": {},
     "output_type": "execute_result"
    }
   ],
   "source": [
    "myif"
   ]
  },
  {
   "cell_type": "code",
   "execution_count": 122,
   "id": "0fa76c07",
   "metadata": {
    "scrolled": true
   },
   "outputs": [
    {
     "data": {
      "text/html": [
       "<div>\n",
       "<style scoped>\n",
       "    .dataframe tbody tr th:only-of-type {\n",
       "        vertical-align: middle;\n",
       "    }\n",
       "\n",
       "    .dataframe tbody tr th {\n",
       "        vertical-align: top;\n",
       "    }\n",
       "\n",
       "    .dataframe thead th {\n",
       "        text-align: right;\n",
       "    }\n",
       "</style>\n",
       "<table border=\"1\" class=\"dataframe\">\n",
       "  <thead>\n",
       "    <tr style=\"text-align: right;\">\n",
       "      <th></th>\n",
       "      <th>name</th>\n",
       "      <th>align</th>\n",
       "      <th>eye</th>\n",
       "      <th>hair</th>\n",
       "      <th>sex</th>\n",
       "      <th>appearances</th>\n",
       "      <th>first_appearance</th>\n",
       "      <th>app_log</th>\n",
       "    </tr>\n",
       "  </thead>\n",
       "  <tbody>\n",
       "    <tr>\n",
       "      <th>0</th>\n",
       "      <td>Spider-Man (Peter Parker)</td>\n",
       "      <td>Добрый персонаж</td>\n",
       "      <td>Карие глаза</td>\n",
       "      <td>Каштановые волосы</td>\n",
       "      <td>Мужской персонаж</td>\n",
       "      <td>4043.0</td>\n",
       "      <td>1962.0</td>\n",
       "      <td>8.304742</td>\n",
       "    </tr>\n",
       "    <tr>\n",
       "      <th>1</th>\n",
       "      <td>Captain America (Steven Rogers)</td>\n",
       "      <td>Добрый персонаж</td>\n",
       "      <td>Голубые глаза</td>\n",
       "      <td>Белые волосы</td>\n",
       "      <td>Мужской персонаж</td>\n",
       "      <td>3360.0</td>\n",
       "      <td>1941.0</td>\n",
       "      <td>8.119696</td>\n",
       "    </tr>\n",
       "    <tr>\n",
       "      <th>2</th>\n",
       "      <td>Wolverine (James \\\"Logan\\\" Howlett)</td>\n",
       "      <td>Нейтральный персонаж</td>\n",
       "      <td>Голубые глаза</td>\n",
       "      <td>Черные волосы</td>\n",
       "      <td>Мужской персонаж</td>\n",
       "      <td>3061.0</td>\n",
       "      <td>1974.0</td>\n",
       "      <td>8.026497</td>\n",
       "    </tr>\n",
       "    <tr>\n",
       "      <th>3</th>\n",
       "      <td>Iron Man (Anthony \\\"Tony\\\" Stark)</td>\n",
       "      <td>Добрый персонаж</td>\n",
       "      <td>Голубые глаза</td>\n",
       "      <td>Черные волосы</td>\n",
       "      <td>Мужской персонаж</td>\n",
       "      <td>2961.0</td>\n",
       "      <td>1963.0</td>\n",
       "      <td>7.993282</td>\n",
       "    </tr>\n",
       "    <tr>\n",
       "      <th>4</th>\n",
       "      <td>Thor (Thor Odinson)</td>\n",
       "      <td>Добрый персонаж</td>\n",
       "      <td>Голубые глаза</td>\n",
       "      <td>Русые волосы</td>\n",
       "      <td>Мужской персонаж</td>\n",
       "      <td>2258.0</td>\n",
       "      <td>1950.0</td>\n",
       "      <td>7.722235</td>\n",
       "    </tr>\n",
       "    <tr>\n",
       "      <th>...</th>\n",
       "      <td>...</td>\n",
       "      <td>...</td>\n",
       "      <td>...</td>\n",
       "      <td>...</td>\n",
       "      <td>...</td>\n",
       "      <td>...</td>\n",
       "      <td>...</td>\n",
       "      <td>...</td>\n",
       "    </tr>\n",
       "    <tr>\n",
       "      <th>15275</th>\n",
       "      <td>Visher-Rakk (Earth-616)</td>\n",
       "      <td>Злой персонаж</td>\n",
       "      <td>NaN</td>\n",
       "      <td>NaN</td>\n",
       "      <td>NaN</td>\n",
       "      <td>1.0</td>\n",
       "      <td>NaN</td>\n",
       "      <td>0.000000</td>\n",
       "    </tr>\n",
       "    <tr>\n",
       "      <th>15276</th>\n",
       "      <td>Weapon Red (Chinese Mutant) (Earth-616)</td>\n",
       "      <td>Злой персонаж</td>\n",
       "      <td>Белые глаза</td>\n",
       "      <td>Черные волосы</td>\n",
       "      <td>Мужской персонаж</td>\n",
       "      <td>1.0</td>\n",
       "      <td>NaN</td>\n",
       "      <td>0.000000</td>\n",
       "    </tr>\n",
       "    <tr>\n",
       "      <th>15277</th>\n",
       "      <td>Wolfgang von Roehm (Earth-616)</td>\n",
       "      <td>Нейтральный персонаж</td>\n",
       "      <td>NaN</td>\n",
       "      <td>NaN</td>\n",
       "      <td>Мужской персонаж</td>\n",
       "      <td>1.0</td>\n",
       "      <td>NaN</td>\n",
       "      <td>0.000000</td>\n",
       "    </tr>\n",
       "    <tr>\n",
       "      <th>15278</th>\n",
       "      <td>Xan (Earth-616)</td>\n",
       "      <td>Злой персонаж</td>\n",
       "      <td>Желтые глаза</td>\n",
       "      <td>Черные волосы</td>\n",
       "      <td>Мужской персонаж</td>\n",
       "      <td>1.0</td>\n",
       "      <td>NaN</td>\n",
       "      <td>0.000000</td>\n",
       "    </tr>\n",
       "    <tr>\n",
       "      <th>15279</th>\n",
       "      <td>Zamira (Earth-616)</td>\n",
       "      <td>Добрый персонаж</td>\n",
       "      <td>Темно-карие глаза</td>\n",
       "      <td>Черные волосы</td>\n",
       "      <td>Женский персонаж</td>\n",
       "      <td>1.0</td>\n",
       "      <td>NaN</td>\n",
       "      <td>0.000000</td>\n",
       "    </tr>\n",
       "  </tbody>\n",
       "</table>\n",
       "<p>15280 rows × 8 columns</p>\n",
       "</div>"
      ],
      "text/plain": [
       "                                          name                 align  \\\n",
       "0                    Spider-Man (Peter Parker)       Добрый персонаж   \n",
       "1              Captain America (Steven Rogers)       Добрый персонаж   \n",
       "2          Wolverine (James \\\"Logan\\\" Howlett)  Нейтральный персонаж   \n",
       "3            Iron Man (Anthony \\\"Tony\\\" Stark)       Добрый персонаж   \n",
       "4                          Thor (Thor Odinson)       Добрый персонаж   \n",
       "...                                        ...                   ...   \n",
       "15275                  Visher-Rakk (Earth-616)         Злой персонаж   \n",
       "15276  Weapon Red (Chinese Mutant) (Earth-616)         Злой персонаж   \n",
       "15277           Wolfgang von Roehm (Earth-616)  Нейтральный персонаж   \n",
       "15278                          Xan (Earth-616)         Злой персонаж   \n",
       "15279                       Zamira (Earth-616)       Добрый персонаж   \n",
       "\n",
       "                     eye               hair               sex  appearances  \\\n",
       "0            Карие глаза  Каштановые волосы  Мужской персонаж       4043.0   \n",
       "1          Голубые глаза       Белые волосы  Мужской персонаж       3360.0   \n",
       "2          Голубые глаза      Черные волосы  Мужской персонаж       3061.0   \n",
       "3          Голубые глаза      Черные волосы  Мужской персонаж       2961.0   \n",
       "4          Голубые глаза       Русые волосы  Мужской персонаж       2258.0   \n",
       "...                  ...                ...               ...          ...   \n",
       "15275                NaN                NaN               NaN          1.0   \n",
       "15276        Белые глаза      Черные волосы  Мужской персонаж          1.0   \n",
       "15277                NaN                NaN  Мужской персонаж          1.0   \n",
       "15278       Желтые глаза      Черные волосы  Мужской персонаж          1.0   \n",
       "15279  Темно-карие глаза      Черные волосы  Женский персонаж          1.0   \n",
       "\n",
       "       first_appearance   app_log  \n",
       "0                1962.0  8.304742  \n",
       "1                1941.0  8.119696  \n",
       "2                1974.0  8.026497  \n",
       "3                1963.0  7.993282  \n",
       "4                1950.0  7.722235  \n",
       "...                 ...       ...  \n",
       "15275               NaN  0.000000  \n",
       "15276               NaN  0.000000  \n",
       "15277               NaN  0.000000  \n",
       "15278               NaN  0.000000  \n",
       "15279               NaN  0.000000  \n",
       "\n",
       "[15280 rows x 8 columns]"
      ]
     },
     "execution_count": 122,
     "metadata": {},
     "output_type": "execute_result"
    }
   ],
   "source": [
    "df1"
   ]
  },
  {
   "cell_type": "code",
   "execution_count": null,
   "id": "eb930b8b",
   "metadata": {},
   "outputs": [],
   "source": []
  },
  {
   "cell_type": "code",
   "execution_count": 109,
   "id": "208a85e3",
   "metadata": {},
   "outputs": [],
   "source": [
    "#например, пусть имеется выборка наблюдений за ежедневными продажами в магазине. \n",
    "#Значения наблюдений распределены по нормальному закону со средним значением 150 000 руб.(y) \n",
    "#и среднеквадратическим отклонением 20 000 руб(x). Тогда, в соответствии с правилом 3-х сигм, \n",
    "#продажи ниже, чем 150 000 - 20 000 x 3 = 90 000, и выше, чем 150 000 + 20 000 х 3 = 210 000, \n",
    "#являются практически невозможными событиями. y-x*3"
   ]
  },
  {
   "cell_type": "code",
   "execution_count": 142,
   "id": "a4d85b17",
   "metadata": {},
   "outputs": [
    {
     "name": "stdout",
     "output_type": "stream",
     "text": [
      "5: 195\n"
     ]
    }
   ],
   "source": [
    "df = pd.read_excel('../MarvelComicCaracters.xlsx')\n",
    "\n",
    "# 5\n",
    "import numpy as np\n",
    "appearances_log = np.log(df.dropna(subset=['appearances'])['appearances'])\n",
    "appearances_log_mean = appearances_log.mean()\n",
    "appearances_log_std = appearances_log.std()\n",
    "outlier = (appearances_log > appearances_log_mean + 3 *  appearances_log_std) \\\n",
    "          | (appearances_log < appearances_log_mean - 3 *  appearances_log_std)\n",
    "print(\"5:\", outlier.sum())"
   ]
  },
  {
   "cell_type": "code",
   "execution_count": 147,
   "id": "335575ad",
   "metadata": {},
   "outputs": [
    {
     "name": "stdout",
     "output_type": "stream",
     "text": [
      "96.37295937534499 17.033376963350786\n",
      "-272.0855011626842 306.1522550893858\n"
     ]
    },
    {
     "data": {
      "text/plain": [
       "128"
      ]
     },
     "execution_count": 147,
     "metadata": {},
     "output_type": "execute_result"
    }
   ],
   "source": [
    "#6 Сколько выбросов получится по переменной appearancs? Работайте с исходными данными,\n",
    "#предварительно удалите пропущенные значения по столбцу appearances, используйте для нахождения\n",
    "#выбросов три среднеквадратичных отклонения от среднего. Введите ответ в виде целого числа.\n",
    "df1 = df.dropna(subset=['appearances'])#удалите пропущенные значения по столбцу appearances \n",
    "std=df1['appearances'].std()\n",
    "mean=df1['appearances'].mean()\n",
    "print(std, mean)\n",
    "print(mean-std*3,mean+std*3)\n",
    "myif=(df1['appearances']>mean+std*3) | (df1['appearances']<mean-std*3)\n",
    "myif.sum() # ответ 195"
   ]
  },
  {
   "cell_type": "code",
   "execution_count": 148,
   "id": "5f92671e",
   "metadata": {},
   "outputs": [
    {
     "name": "stdout",
     "output_type": "stream",
     "text": [
      "7: 48\n"
     ]
    }
   ],
   "source": [
    "#7 Сколько выбросов получится по переменной appearancs, если выбраны только женские персонажи?\n",
    "#Работайте с исходными данными, выберите женских персонажей, удалите пропущенные значения по\n",
    "#столбцу appearancs, используйте для нахождения выбросов z-оценку и три среднеквадратичных\n",
    "#отклонения от среднего. Введите ответ в виде целого числа.\n",
    "appearances = df.loc[df['sex'] == 'Женский персонаж', 'appearances'].dropna()\n",
    "appearances_mean = appearances.mean()\n",
    "appearances_std = appearances.std()\n",
    "outlier = (appearances > appearances_mean + 3 * appearances_std) \\\n",
    "          | (appearances < appearances_mean - 3 * appearances_std)\n",
    "print(\"7:\", outlier.sum())"
   ]
  },
  {
   "cell_type": "code",
   "execution_count": 26,
   "id": "b692fe4c",
   "metadata": {},
   "outputs": [
    {
     "name": "stdout",
     "output_type": "stream",
     "text": [
      "8: 11\n"
     ]
    }
   ],
   "source": [
    "# 8\n",
    "#Сравните среднее значение по переменной appearancs в двух датафреймах — без выбросов,\n",
    "#определенных по межквартильному размаху, и без выбросов, определенных по среднеквадратичному\n",
    "#отклонению от среднего. Будем считать, что границы датафреймов без выбросов содержат значения\n",
    "#верхних и нижних границ, определенных по межквартильному размаху или среднеквадратичному\n",
    "#отклонению от среднего. В ответ запишите число (наибольшее среднее из двух), округлите до целого.\n",
    "appearances = df['appearances'].dropna()\n",
    "appearances_mean = appearances.mean()\n",
    "appearances_std = appearances.std()\n",
    "outlier_std = (appearances > appearances_mean + 3 * appearances_std) \\\n",
    "          | (appearances < appearances_mean - 3 * appearances_std)\n",
    "\n",
    "iqr = appearances.quantile(0.75) - appearances.quantile(0.25)\n",
    "outlier_iqr = (appearances > appearances.quantile(0.75) + 1.5 * iqr) \\\n",
    "          | (appearances < appearances.quantile(0.25) - 1.5 * iqr)\n",
    "\n",
    "answer = round(max(appearances[~outlier_std].mean(), appearances[~outlier_iqr].mean()))\n",
    "print(\"8:\", answer)\n"
   ]
  },
  {
   "cell_type": "code",
   "execution_count": 28,
   "id": "763f3b9c",
   "metadata": {},
   "outputs": [
    {
     "data": {
      "text/plain": [
       "3.9579523309848597"
      ]
     },
     "execution_count": 28,
     "metadata": {},
     "output_type": "execute_result"
    }
   ],
   "source": [
    "appearances[~outlier_iqr].mean()"
   ]
  },
  {
   "cell_type": "code",
   "execution_count": 27,
   "id": "684dd787",
   "metadata": {},
   "outputs": [
    {
     "data": {
      "text/plain": [
       "10.509701689545935"
      ]
     },
     "execution_count": 27,
     "metadata": {},
     "output_type": "execute_result"
    }
   ],
   "source": [
    "appearances[~outlier_std].mean()"
   ]
  },
  {
   "cell_type": "code",
   "execution_count": 30,
   "id": "6ff497c2",
   "metadata": {},
   "outputs": [
    {
     "name": "stdout",
     "output_type": "stream",
     "text": [
      "9: 0    True\n",
      "Name: hair, dtype: bool\n"
     ]
    }
   ],
   "source": [
    "# 9\n",
    "#Укажите, верно ли следующее утверждение: в датафрейме для добрых женских персонажей мода по\n",
    "#переменной hair не изменится, если удалить выбросы по переменной appearances. Работайте с\n",
    "#исходными данными, предварительно удалите пропущенные значения по столбцу appearances,\n",
    "#используйте для нахождения выбросов межквартильный размах\n",
    "df1 = df.dropna(subset=['appearances'])\n",
    "appearances = df1['appearances']\n",
    "\n",
    "iqr = appearances.quantile(0.75) - appearances.quantile(0.25)\n",
    "outlier_iqr = (appearances > appearances.quantile(0.75) + 1.5 * iqr) \\\n",
    "              | (appearances < appearances.quantile(0.25) - 1.5 * iqr)\n",
    "\n",
    "\n",
    "full = df1.loc[(df1['sex'] == 'Женский персонаж') & (df1['align'] == 'Добрый персонаж'), 'hair'].mode()\n",
    "no_outlier = df1.loc[(df1['sex'] == 'Женский персонаж') & (df1['align'] == 'Добрый персонаж') & (~outlier_iqr), 'hair'].mode()\n",
    "print(\"9:\", full == no_outlier)\n"
   ]
  },
  {
   "cell_type": "code",
   "execution_count": 31,
   "id": "a3569c9e",
   "metadata": {},
   "outputs": [
    {
     "name": "stdout",
     "output_type": "stream",
     "text": [
      "10: 3\n"
     ]
    }
   ],
   "source": [
    "# 10\n",
    "#Выберите только злых персонажей. Сравните медиану по переменной appearances в двух датафреймах —\n",
    "#с выбросами и без выбросов, определенных по межквартильному размаху. В ответ запишите число\n",
    "#(наибольшая медиана из двух), округлите до целого.\n",
    "df1 = df[df['align'] == 'Злой персонаж'].dropna(subset=['appearances'])\n",
    "appearances = df1['appearances']\n",
    "\n",
    "iqr = appearances.quantile(0.75) - appearances.quantile(0.25)\n",
    "outlier_iqr = (appearances > appearances.quantile(0.75) + 1.5 * iqr) \\\n",
    "              | (appearances < appearances.quantile(0.25) - 1.5 * iqr)\n",
    "\n",
    "full = df1['appearances'].median()\n",
    "no_outlier = df1.loc[~outlier_iqr, 'appearances'].median()\n",
    "answer = round(max(full, no_outlier))\n",
    "print(\"10:\", answer)"
   ]
  },
  {
   "cell_type": "code",
   "execution_count": 32,
   "id": "04636683",
   "metadata": {},
   "outputs": [
    {
     "data": {
      "text/plain": [
       "3.0"
      ]
     },
     "execution_count": 32,
     "metadata": {},
     "output_type": "execute_result"
    }
   ],
   "source": [
    "full\n"
   ]
  },
  {
   "cell_type": "code",
   "execution_count": 33,
   "id": "bc9967ad",
   "metadata": {},
   "outputs": [
    {
     "data": {
      "text/plain": [
       "2.0"
      ]
     },
     "execution_count": 33,
     "metadata": {},
     "output_type": "execute_result"
    }
   ],
   "source": [
    "no_outlier"
   ]
  },
  {
   "cell_type": "code",
   "execution_count": null,
   "id": "b3df391d",
   "metadata": {},
   "outputs": [],
   "source": []
  }
 ],
 "metadata": {
  "kernelspec": {
   "display_name": "Python 3 (ipykernel)",
   "language": "python",
   "name": "python3"
  },
  "language_info": {
   "codemirror_mode": {
    "name": "ipython",
    "version": 3
   },
   "file_extension": ".py",
   "mimetype": "text/x-python",
   "name": "python",
   "nbconvert_exporter": "python",
   "pygments_lexer": "ipython3",
   "version": "3.11.5"
  }
 },
 "nbformat": 4,
 "nbformat_minor": 5
}
