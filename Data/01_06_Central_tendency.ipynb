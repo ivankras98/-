{
 "cells": [
  {
   "cell_type": "markdown",
   "metadata": {},
   "source": [
    "# Меры центральной тенденции"
   ]
  },
  {
   "cell_type": "code",
   "execution_count": 1,
   "metadata": {},
   "outputs": [
    {
     "data": {
      "text/html": [
       "<div>\n",
       "<style scoped>\n",
       "    .dataframe tbody tr th:only-of-type {\n",
       "        vertical-align: middle;\n",
       "    }\n",
       "\n",
       "    .dataframe tbody tr th {\n",
       "        vertical-align: top;\n",
       "    }\n",
       "\n",
       "    .dataframe thead th {\n",
       "        text-align: right;\n",
       "    }\n",
       "</style>\n",
       "<table border=\"1\" class=\"dataframe\">\n",
       "  <thead>\n",
       "    <tr style=\"text-align: right;\">\n",
       "      <th></th>\n",
       "      <th>Date</th>\n",
       "      <th>Hour</th>\n",
       "      <th>Temperature</th>\n",
       "      <th>Humidity</th>\n",
       "      <th>Wind speed</th>\n",
       "      <th>Rainfall</th>\n",
       "      <th>Snowfall</th>\n",
       "      <th>Seasons</th>\n",
       "      <th>Holiday</th>\n",
       "      <th>Functioning Day</th>\n",
       "      <th>Rental Count</th>\n",
       "      <th>Normal Humidity</th>\n",
       "      <th>Temperature Category</th>\n",
       "      <th>Good Weather</th>\n",
       "    </tr>\n",
       "  </thead>\n",
       "  <tbody>\n",
       "    <tr>\n",
       "      <th>0</th>\n",
       "      <td>2017-12-01</td>\n",
       "      <td>0</td>\n",
       "      <td>-5.2</td>\n",
       "      <td>37</td>\n",
       "      <td>2.2</td>\n",
       "      <td>0.0</td>\n",
       "      <td>0.0</td>\n",
       "      <td>Winter</td>\n",
       "      <td>0</td>\n",
       "      <td>True</td>\n",
       "      <td>257</td>\n",
       "      <td>0</td>\n",
       "      <td>Freezing</td>\n",
       "      <td>0</td>\n",
       "    </tr>\n",
       "    <tr>\n",
       "      <th>1</th>\n",
       "      <td>2017-12-01</td>\n",
       "      <td>1</td>\n",
       "      <td>-5.5</td>\n",
       "      <td>38</td>\n",
       "      <td>0.8</td>\n",
       "      <td>0.0</td>\n",
       "      <td>0.0</td>\n",
       "      <td>Winter</td>\n",
       "      <td>0</td>\n",
       "      <td>True</td>\n",
       "      <td>219</td>\n",
       "      <td>0</td>\n",
       "      <td>Freezing</td>\n",
       "      <td>0</td>\n",
       "    </tr>\n",
       "    <tr>\n",
       "      <th>2</th>\n",
       "      <td>2017-12-01</td>\n",
       "      <td>2</td>\n",
       "      <td>-6.0</td>\n",
       "      <td>39</td>\n",
       "      <td>1.0</td>\n",
       "      <td>0.0</td>\n",
       "      <td>0.0</td>\n",
       "      <td>Winter</td>\n",
       "      <td>0</td>\n",
       "      <td>True</td>\n",
       "      <td>162</td>\n",
       "      <td>0</td>\n",
       "      <td>Freezing</td>\n",
       "      <td>0</td>\n",
       "    </tr>\n",
       "    <tr>\n",
       "      <th>3</th>\n",
       "      <td>2017-12-01</td>\n",
       "      <td>3</td>\n",
       "      <td>-6.2</td>\n",
       "      <td>40</td>\n",
       "      <td>0.9</td>\n",
       "      <td>0.0</td>\n",
       "      <td>0.0</td>\n",
       "      <td>Winter</td>\n",
       "      <td>0</td>\n",
       "      <td>True</td>\n",
       "      <td>148</td>\n",
       "      <td>1</td>\n",
       "      <td>Freezing</td>\n",
       "      <td>0</td>\n",
       "    </tr>\n",
       "    <tr>\n",
       "      <th>4</th>\n",
       "      <td>2017-12-01</td>\n",
       "      <td>4</td>\n",
       "      <td>-6.0</td>\n",
       "      <td>36</td>\n",
       "      <td>2.3</td>\n",
       "      <td>0.0</td>\n",
       "      <td>0.0</td>\n",
       "      <td>Winter</td>\n",
       "      <td>0</td>\n",
       "      <td>True</td>\n",
       "      <td>97</td>\n",
       "      <td>0</td>\n",
       "      <td>Freezing</td>\n",
       "      <td>0</td>\n",
       "    </tr>\n",
       "  </tbody>\n",
       "</table>\n",
       "</div>"
      ],
      "text/plain": [
       "        Date  Hour  Temperature  Humidity  Wind speed  Rainfall  Snowfall  \\\n",
       "0 2017-12-01     0         -5.2        37         2.2       0.0       0.0   \n",
       "1 2017-12-01     1         -5.5        38         0.8       0.0       0.0   \n",
       "2 2017-12-01     2         -6.0        39         1.0       0.0       0.0   \n",
       "3 2017-12-01     3         -6.2        40         0.9       0.0       0.0   \n",
       "4 2017-12-01     4         -6.0        36         2.3       0.0       0.0   \n",
       "\n",
       "  Seasons  Holiday  Functioning Day  Rental Count  Normal Humidity  \\\n",
       "0  Winter        0             True           257                0   \n",
       "1  Winter        0             True           219                0   \n",
       "2  Winter        0             True           162                0   \n",
       "3  Winter        0             True           148                1   \n",
       "4  Winter        0             True            97                0   \n",
       "\n",
       "  Temperature Category  Good Weather  \n",
       "0             Freezing             0  \n",
       "1             Freezing             0  \n",
       "2             Freezing             0  \n",
       "3             Freezing             0  \n",
       "4             Freezing             0  "
      ]
     },
     "execution_count": 1,
     "metadata": {},
     "output_type": "execute_result"
    }
   ],
   "source": [
    "import pandas as pd\n",
    "\n",
    "bikes = pd.read_pickle('BikesDataVars.pkl')\n",
    "bikes.head()"
   ]
  },
  {
   "cell_type": "code",
   "execution_count": 3,
   "metadata": {},
   "outputs": [
    {
     "data": {
      "text/plain": [
       "58.226255707762554"
      ]
     },
     "execution_count": 3,
     "metadata": {},
     "output_type": "execute_result"
    }
   ],
   "source": [
    "bikes['Humidity'].sum() / len(bikes['Humidity'])"
   ]
  },
  {
   "cell_type": "code",
   "execution_count": null,
   "metadata": {},
   "outputs": [],
   "source": [
    "hum_sorted = bikes['Humidity'].sort_values().reset_index(drop=True)\n",
    "print(len(hum_sorted))\n",
    "ind_1, ind_2 = int(len(hum_sorted)/2), int((len(hum_sorted) + 2)/2)\n",
    "print((hum_sorted[ind_1] + hum_sorted[ind_2]) / 2)\n",
    "print(hum_sorted[ind_1], hum_sorted[ind_2])"
   ]
  },
  {
   "cell_type": "code",
   "execution_count": null,
   "metadata": {},
   "outputs": [],
   "source": [
    "bikes['Humidity'].value_counts().head(2)"
   ]
  },
  {
   "cell_type": "code",
   "execution_count": null,
   "metadata": {},
   "outputs": [],
   "source": [
    "bikes['Humidity'].hist(bins=100)"
   ]
  },
  {
   "cell_type": "code",
   "execution_count": null,
   "metadata": {},
   "outputs": [],
   "source": [
    "bikes.describe()"
   ]
  },
  {
   "cell_type": "code",
   "execution_count": null,
   "metadata": {},
   "outputs": [],
   "source": [
    "bikes['Humidity'].describe()"
   ]
  },
  {
   "cell_type": "code",
   "execution_count": 4,
   "metadata": {},
   "outputs": [
    {
     "name": "stdout",
     "output_type": "stream",
     "text": [
      "58.226255707762554\n",
      "57.0\n",
      "0    53\n",
      "1    97\n",
      "Name: Humidity, dtype: int64\n"
     ]
    }
   ],
   "source": [
    "print(bikes['Humidity'].mean())\n",
    "print(bikes['Humidity'].median())\n",
    "print(bikes['Humidity'].mode())"
   ]
  },
  {
   "cell_type": "code",
   "execution_count": 5,
   "metadata": {},
   "outputs": [
    {
     "data": {
      "text/plain": [
       "Hour\n",
       "0      558.178082\n",
       "1      415.720548\n",
       "2      319.767123\n",
       "3      201.010959\n",
       "4      122.838356\n",
       "5      135.863014\n",
       "6      283.654795\n",
       "7      612.646575\n",
       "8      979.838356\n",
       "9      642.136986\n",
       "10     519.123288\n",
       "11     585.336986\n",
       "12     710.534247\n",
       "13     700.706849\n",
       "14     747.147945\n",
       "15     796.084932\n",
       "16     938.032877\n",
       "17    1128.873973\n",
       "18    1518.983562\n",
       "19    1168.328767\n",
       "20    1069.698630\n",
       "21     997.942466\n",
       "22     893.621918\n",
       "23     671.898630\n",
       "Name: Rental Count, dtype: float64"
      ]
     },
     "execution_count": 5,
     "metadata": {},
     "output_type": "execute_result"
    }
   ],
   "source": [
    "bikes.groupby('Hour')['Rental Count'].mean()"
   ]
  },
  {
   "cell_type": "code",
   "execution_count": 6,
   "metadata": {},
   "outputs": [
    {
     "data": {
      "text/plain": [
       "Hour  Good Weather\n",
       "0     0                514.797619\n",
       "      1               1060.793103\n",
       "1     0                399.179941\n",
       "      1                631.384615\n",
       "2     0                304.476608\n",
       "      1                547.130435\n",
       "3     0                193.178161\n",
       "      1                361.352941\n",
       "4     0                119.467236\n",
       "      1                207.357143\n",
       "5     0                131.218487\n",
       "      1                343.125000\n",
       "6     0                279.243017\n",
       "      1                509.285714\n",
       "7     0                604.888571\n",
       "      1                793.666667\n",
       "8     0                957.336336\n",
       "      1               1214.000000\n",
       "9     0                598.072327\n",
       "      1                940.276596\n",
       "10    0                478.721154\n",
       "      1                756.962264\n",
       "11    0                514.022801\n",
       "      1                962.810345\n",
       "12    0                664.558065\n",
       "      1                969.672727\n",
       "13    0                674.304075\n",
       "      1                883.804348\n",
       "14    0                736.636905\n",
       "      1                868.931034\n",
       "15    0                795.384615\n",
       "      1                804.851852\n",
       "16    0                935.814925\n",
       "      1                962.800000\n",
       "17    0               1082.452599\n",
       "      1               1528.342105\n",
       "18    0               1410.716981\n",
       "      1               2251.510638\n",
       "19    0               1054.064725\n",
       "      1               1798.821429\n",
       "20    0                961.383178\n",
       "      1               1859.909091\n",
       "21    0                922.609231\n",
       "      1               1610.025000\n",
       "22    0                831.304878\n",
       "      1               1446.054054\n",
       "23    0                634.060423\n",
       "      1               1040.264706\n",
       "Name: Rental Count, dtype: float64"
      ]
     },
     "execution_count": 6,
     "metadata": {},
     "output_type": "execute_result"
    }
   ],
   "source": [
    "bikes.groupby(['Hour','Good Weather'])['Rental Count'].mean()"
   ]
  },
  {
   "cell_type": "code",
   "execution_count": 7,
   "metadata": {},
   "outputs": [
    {
     "data": {
      "text/plain": [
       "<Axes: xlabel='Hour'>"
      ]
     },
     "execution_count": 7,
     "metadata": {},
     "output_type": "execute_result"
    },
    {
     "data": {
      "image/png": "[encoded data removed]",
      "text/plain": [
       "<Figure size 640x480 with 1 Axes>"
      ]
     },
     "metadata": {},
     "output_type": "display_data"
    }
   ],
   "source": [
    "bikes.groupby('Hour')['Rental Count'].mean().plot(kind='bar')"
   ]
  },
  {
   "cell_type": "code",
   "execution_count": 8,
   "metadata": {},
   "outputs": [
    {
     "data": {
      "text/plain": [
       "Hour\n",
       "0      433.0\n",
       "1      329.0\n",
       "2      239.0\n",
       "3      165.0\n",
       "4       94.0\n",
       "5      107.0\n",
       "6      193.0\n",
       "7      410.0\n",
       "8      762.0\n",
       "9      519.0\n",
       "10     414.0\n",
       "11     485.0\n",
       "12     572.0\n",
       "13     586.0\n",
       "14     567.0\n",
       "15     678.0\n",
       "16     804.0\n",
       "17     899.0\n",
       "18    1154.0\n",
       "19     845.0\n",
       "20     721.0\n",
       "21     688.0\n",
       "22     649.0\n",
       "23     516.0\n",
       "Name: Rental Count, dtype: float64"
      ]
     },
     "execution_count": 8,
     "metadata": {},
     "output_type": "execute_result"
    }
   ],
   "source": [
    "bikes.groupby('Hour')['Rental Count'].median()"
   ]
  },
  {
   "cell_type": "code",
   "execution_count": 9,
   "metadata": {},
   "outputs": [
    {
     "data": {
      "text/plain": [
       "Seasons\n",
       "Autumn      Chilly\n",
       "Spring      Chilly\n",
       "Summer         Hot\n",
       "Winter    Freezing\n",
       "Name: Temperature Category, dtype: object"
      ]
     },
     "execution_count": 9,
     "metadata": {},
     "output_type": "execute_result"
    }
   ],
   "source": [
    "bikes.groupby('Seasons')['Temperature Category'].agg(pd.Series.mode)"
   ]
  },
  {
   "cell_type": "code",
   "execution_count": 10,
   "metadata": {},
   "outputs": [
    {
     "data": {
      "text/plain": [
       "Seasons\n",
       "Autumn      Chilly\n",
       "Spring      Chilly\n",
       "Summer         Hot\n",
       "Winter    Freezing\n",
       "Name: Temperature Category, dtype: object"
      ]
     },
     "execution_count": 10,
     "metadata": {},
     "output_type": "execute_result"
    }
   ],
   "source": [
    "bikes.groupby('Seasons')['Temperature Category'].agg(lambda x: x.value_counts().index[0])"
   ]
  },
  {
   "cell_type": "code",
   "execution_count": 11,
   "metadata": {},
   "outputs": [
    {
     "data": {
      "text/plain": [
       "Seasons\n",
       "Autumn    14.138821\n",
       "Spring    13.038533\n",
       "Summer    26.574827\n",
       "Winter    -2.567783\n",
       "Name: Temperature, dtype: float64"
      ]
     },
     "execution_count": 11,
     "metadata": {},
     "output_type": "execute_result"
    }
   ],
   "source": [
    "bikes.groupby('Seasons')['Temperature'].agg('mean')"
   ]
  },
  {
   "cell_type": "code",
   "execution_count": 12,
   "metadata": {},
   "outputs": [
    {
     "data": {
      "text/plain": [
       "Seasons\n",
       "Autumn    14.138821\n",
       "Spring    13.038533\n",
       "Summer    26.574827\n",
       "Winter    -2.567783\n",
       "Name: Temperature, dtype: float64"
      ]
     },
     "execution_count": 12,
     "metadata": {},
     "output_type": "execute_result"
    }
   ],
   "source": [
    "bikes.groupby('Seasons')['Temperature'].mean()"
   ]
  },
  {
   "cell_type": "code",
   "execution_count": 13,
   "metadata": {},
   "outputs": [
    {
     "data": {
      "text/html": [
       "<div>\n",
       "<style scoped>\n",
       "    .dataframe tbody tr th:only-of-type {\n",
       "        vertical-align: middle;\n",
       "    }\n",
       "\n",
       "    .dataframe tbody tr th {\n",
       "        vertical-align: top;\n",
       "    }\n",
       "\n",
       "    .dataframe thead th {\n",
       "        text-align: right;\n",
       "    }\n",
       "</style>\n",
       "<table border=\"1\" class=\"dataframe\">\n",
       "  <thead>\n",
       "    <tr style=\"text-align: right;\">\n",
       "      <th></th>\n",
       "      <th>mean</th>\n",
       "      <th>median</th>\n",
       "    </tr>\n",
       "    <tr>\n",
       "      <th>Seasons</th>\n",
       "      <th></th>\n",
       "      <th></th>\n",
       "    </tr>\n",
       "  </thead>\n",
       "  <tbody>\n",
       "    <tr>\n",
       "      <th>Autumn</th>\n",
       "      <td>14.138821</td>\n",
       "      <td>13.8</td>\n",
       "    </tr>\n",
       "    <tr>\n",
       "      <th>Spring</th>\n",
       "      <td>13.038533</td>\n",
       "      <td>13.3</td>\n",
       "    </tr>\n",
       "    <tr>\n",
       "      <th>Summer</th>\n",
       "      <td>26.574827</td>\n",
       "      <td>26.6</td>\n",
       "    </tr>\n",
       "    <tr>\n",
       "      <th>Winter</th>\n",
       "      <td>-2.567783</td>\n",
       "      <td>-2.2</td>\n",
       "    </tr>\n",
       "  </tbody>\n",
       "</table>\n",
       "</div>"
      ],
      "text/plain": [
       "              mean  median\n",
       "Seasons                   \n",
       "Autumn   14.138821    13.8\n",
       "Spring   13.038533    13.3\n",
       "Summer   26.574827    26.6\n",
       "Winter   -2.567783    -2.2"
      ]
     },
     "execution_count": 13,
     "metadata": {},
     "output_type": "execute_result"
    }
   ],
   "source": [
    "bikes.groupby('Seasons')['Temperature'].agg(func=['mean', 'median'])"
   ]
  },
  {
   "cell_type": "code",
   "execution_count": 14,
   "metadata": {},
   "outputs": [
    {
     "data": {
      "text/plain": [
       "Index(['Date', 'Hour', 'Temperature', 'Humidity', 'Wind speed', 'Rainfall',\n",
       "       'Snowfall', 'Seasons', 'Holiday', 'Functioning Day', 'Rental Count',\n",
       "       'Normal Humidity', 'Temperature Category', 'Good Weather'],\n",
       "      dtype='object')"
      ]
     },
     "execution_count": 14,
     "metadata": {},
     "output_type": "execute_result"
    }
   ],
   "source": [
    "bikes.columns"
   ]
  },
  {
   "cell_type": "code",
   "execution_count": 15,
   "metadata": {},
   "outputs": [
    {
     "data": {
      "text/html": [
       "<div>\n",
       "<style scoped>\n",
       "    .dataframe tbody tr th:only-of-type {\n",
       "        vertical-align: middle;\n",
       "    }\n",
       "\n",
       "    .dataframe tbody tr th {\n",
       "        vertical-align: top;\n",
       "    }\n",
       "\n",
       "    .dataframe thead tr th {\n",
       "        text-align: left;\n",
       "    }\n",
       "\n",
       "    .dataframe thead tr:last-of-type th {\n",
       "        text-align: right;\n",
       "    }\n",
       "</style>\n",
       "<table border=\"1\" class=\"dataframe\">\n",
       "  <thead>\n",
       "    <tr>\n",
       "      <th></th>\n",
       "      <th colspan=\"2\" halign=\"left\">mean</th>\n",
       "      <th colspan=\"2\" halign=\"left\">median</th>\n",
       "    </tr>\n",
       "    <tr>\n",
       "      <th></th>\n",
       "      <th>Rental Count</th>\n",
       "      <th>Temperature</th>\n",
       "      <th>Rental Count</th>\n",
       "      <th>Temperature</th>\n",
       "    </tr>\n",
       "    <tr>\n",
       "      <th>Hour</th>\n",
       "      <th></th>\n",
       "      <th></th>\n",
       "      <th></th>\n",
       "      <th></th>\n",
       "    </tr>\n",
       "  </thead>\n",
       "  <tbody>\n",
       "    <tr>\n",
       "      <th>0</th>\n",
       "      <td>558.178082</td>\n",
       "      <td>11.253652</td>\n",
       "      <td>433</td>\n",
       "      <td>11.80</td>\n",
       "    </tr>\n",
       "    <tr>\n",
       "      <th>1</th>\n",
       "      <td>415.720548</td>\n",
       "      <td>10.972145</td>\n",
       "      <td>329</td>\n",
       "      <td>11.50</td>\n",
       "    </tr>\n",
       "    <tr>\n",
       "      <th>2</th>\n",
       "      <td>319.767123</td>\n",
       "      <td>10.542535</td>\n",
       "      <td>239</td>\n",
       "      <td>10.90</td>\n",
       "    </tr>\n",
       "    <tr>\n",
       "      <th>3</th>\n",
       "      <td>201.010959</td>\n",
       "      <td>10.355462</td>\n",
       "      <td>165</td>\n",
       "      <td>10.70</td>\n",
       "    </tr>\n",
       "    <tr>\n",
       "      <th>4</th>\n",
       "      <td>122.838356</td>\n",
       "      <td>10.069859</td>\n",
       "      <td>94</td>\n",
       "      <td>10.40</td>\n",
       "    </tr>\n",
       "    <tr>\n",
       "      <th>5</th>\n",
       "      <td>135.863014</td>\n",
       "      <td>9.849580</td>\n",
       "      <td>107</td>\n",
       "      <td>10.00</td>\n",
       "    </tr>\n",
       "    <tr>\n",
       "      <th>6</th>\n",
       "      <td>283.654795</td>\n",
       "      <td>9.763944</td>\n",
       "      <td>193</td>\n",
       "      <td>10.00</td>\n",
       "    </tr>\n",
       "    <tr>\n",
       "      <th>7</th>\n",
       "      <td>612.646575</td>\n",
       "      <td>9.454062</td>\n",
       "      <td>410</td>\n",
       "      <td>9.60</td>\n",
       "    </tr>\n",
       "    <tr>\n",
       "      <th>8</th>\n",
       "      <td>979.838356</td>\n",
       "      <td>9.988515</td>\n",
       "      <td>762</td>\n",
       "      <td>10.40</td>\n",
       "    </tr>\n",
       "    <tr>\n",
       "      <th>9</th>\n",
       "      <td>642.136986</td>\n",
       "      <td>11.459669</td>\n",
       "      <td>519</td>\n",
       "      <td>12.10</td>\n",
       "    </tr>\n",
       "    <tr>\n",
       "      <th>10</th>\n",
       "      <td>519.123288</td>\n",
       "      <td>12.766947</td>\n",
       "      <td>414</td>\n",
       "      <td>14.00</td>\n",
       "    </tr>\n",
       "    <tr>\n",
       "      <th>11</th>\n",
       "      <td>585.336986</td>\n",
       "      <td>14.285434</td>\n",
       "      <td>485</td>\n",
       "      <td>16.40</td>\n",
       "    </tr>\n",
       "    <tr>\n",
       "      <th>12</th>\n",
       "      <td>710.534247</td>\n",
       "      <td>15.417175</td>\n",
       "      <td>572</td>\n",
       "      <td>17.40</td>\n",
       "    </tr>\n",
       "    <tr>\n",
       "      <th>13</th>\n",
       "      <td>700.706849</td>\n",
       "      <td>16.184765</td>\n",
       "      <td>586</td>\n",
       "      <td>18.30</td>\n",
       "    </tr>\n",
       "    <tr>\n",
       "      <th>14</th>\n",
       "      <td>747.147945</td>\n",
       "      <td>16.862360</td>\n",
       "      <td>567</td>\n",
       "      <td>19.10</td>\n",
       "    </tr>\n",
       "    <tr>\n",
       "      <th>15</th>\n",
       "      <td>796.084932</td>\n",
       "      <td>17.084358</td>\n",
       "      <td>678</td>\n",
       "      <td>19.20</td>\n",
       "    </tr>\n",
       "    <tr>\n",
       "      <th>16</th>\n",
       "      <td>938.032877</td>\n",
       "      <td>16.821652</td>\n",
       "      <td>804</td>\n",
       "      <td>18.80</td>\n",
       "    </tr>\n",
       "    <tr>\n",
       "      <th>17</th>\n",
       "      <td>1128.873973</td>\n",
       "      <td>16.325281</td>\n",
       "      <td>899</td>\n",
       "      <td>18.40</td>\n",
       "    </tr>\n",
       "    <tr>\n",
       "      <th>18</th>\n",
       "      <td>1518.983562</td>\n",
       "      <td>15.255956</td>\n",
       "      <td>1154</td>\n",
       "      <td>16.80</td>\n",
       "    </tr>\n",
       "    <tr>\n",
       "      <th>19</th>\n",
       "      <td>1168.328767</td>\n",
       "      <td>14.254062</td>\n",
       "      <td>845</td>\n",
       "      <td>15.20</td>\n",
       "    </tr>\n",
       "    <tr>\n",
       "      <th>20</th>\n",
       "      <td>1069.698630</td>\n",
       "      <td>13.394460</td>\n",
       "      <td>721</td>\n",
       "      <td>14.10</td>\n",
       "    </tr>\n",
       "    <tr>\n",
       "      <th>21</th>\n",
       "      <td>997.942466</td>\n",
       "      <td>12.680165</td>\n",
       "      <td>688</td>\n",
       "      <td>13.40</td>\n",
       "    </tr>\n",
       "    <tr>\n",
       "      <th>22</th>\n",
       "      <td>893.621918</td>\n",
       "      <td>12.281461</td>\n",
       "      <td>649</td>\n",
       "      <td>12.95</td>\n",
       "    </tr>\n",
       "    <tr>\n",
       "      <th>23</th>\n",
       "      <td>671.898630</td>\n",
       "      <td>11.717416</td>\n",
       "      <td>516</td>\n",
       "      <td>12.25</td>\n",
       "    </tr>\n",
       "  </tbody>\n",
       "</table>\n",
       "</div>"
      ],
      "text/plain": [
       "             mean                   median            \n",
       "     Rental Count Temperature Rental Count Temperature\n",
       "Hour                                                  \n",
       "0      558.178082   11.253652          433       11.80\n",
       "1      415.720548   10.972145          329       11.50\n",
       "2      319.767123   10.542535          239       10.90\n",
       "3      201.010959   10.355462          165       10.70\n",
       "4      122.838356   10.069859           94       10.40\n",
       "5      135.863014    9.849580          107       10.00\n",
       "6      283.654795    9.763944          193       10.00\n",
       "7      612.646575    9.454062          410        9.60\n",
       "8      979.838356    9.988515          762       10.40\n",
       "9      642.136986   11.459669          519       12.10\n",
       "10     519.123288   12.766947          414       14.00\n",
       "11     585.336986   14.285434          485       16.40\n",
       "12     710.534247   15.417175          572       17.40\n",
       "13     700.706849   16.184765          586       18.30\n",
       "14     747.147945   16.862360          567       19.10\n",
       "15     796.084932   17.084358          678       19.20\n",
       "16     938.032877   16.821652          804       18.80\n",
       "17    1128.873973   16.325281          899       18.40\n",
       "18    1518.983562   15.255956         1154       16.80\n",
       "19    1168.328767   14.254062          845       15.20\n",
       "20    1069.698630   13.394460          721       14.10\n",
       "21     997.942466   12.680165          688       13.40\n",
       "22     893.621918   12.281461          649       12.95\n",
       "23     671.898630   11.717416          516       12.25"
      ]
     },
     "execution_count": 15,
     "metadata": {},
     "output_type": "execute_result"
    }
   ],
   "source": [
    "bikes.pivot_table(index='Hour', \n",
    "                  values=['Temperature', 'Rental Count'],\n",
    "                  aggfunc=['mean', 'median'])"
   ]
  },
  {
   "cell_type": "code",
   "execution_count": null,
   "metadata": {},
   "outputs": [],
   "source": []
  }
 ],
 "metadata": {
  "kernelspec": {
   "display_name": "Python 3 (ipykernel)",
   "language": "python",
   "name": "python3"
  },
  "language_info": {
   "codemirror_mode": {
    "name": "ipython",
    "version": 3
   },
   "file_extension": ".py",
   "mimetype": "text/x-python",
   "name": "python",
   "nbconvert_exporter": "python",
   "pygments_lexer": "ipython3",
   "version": "3.11.5"
  }
 },
 "nbformat": 4,
 "nbformat_minor": 4
}
