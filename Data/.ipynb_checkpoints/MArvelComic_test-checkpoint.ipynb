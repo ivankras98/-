{
 "cells": [
  {
   "cell_type": "code",
   "execution_count": 4,
   "id": "f14aeef0",
   "metadata": {
    "scrolled": true
   },
   "outputs": [
    {
     "data": {
      "text/plain": [
       "(16376, 7)"
      ]
     },
     "execution_count": 4,
     "metadata": {},
     "output_type": "execute_result"
    }
   ],
   "source": [
    "import pandas as pd\n",
    "import numpy as np\n",
    "import matplotlib.pyplot as plt\n",
    "df = pd.read_excel('MarvelComicCaracters.xlsx')\n",
    "df.head()\n",
    "df.shape"
   ]
  },
  {
   "cell_type": "code",
   "execution_count": 11,
   "id": "1f80b7d4",
   "metadata": {},
   "outputs": [
    {
     "data": {
      "text/plain": [
       "<Axes: >"
      ]
     },
     "execution_count": 11,
     "metadata": {},
     "output_type": "execute_result"
    },
    {
     "data": {
      "image/png": "[encoded data removed]",
      "text/plain": [
       "<Figure size 640x480 with 1 Axes>"
      ]
     },
     "metadata": {},
     "output_type": "display_data"
    }
   ],
   "source": [
    "df['appearances'].plot()"
   ]
  },
  {
   "cell_type": "code",
   "execution_count": 12,
   "id": "2f816033",
   "metadata": {},
   "outputs": [
    {
     "data": {
      "text/plain": [
       "name\n",
       "Spider-Man (Peter Parker)                    1\n",
       "Princess Pam (Earth-616)                     1\n",
       "Mysto the Magician (Earth-616)               1\n",
       "Nails Riggly (Earth-616)                     1\n",
       "Napoleon Sack (Earth-616)                    1\n",
       "                                            ..\n",
       "Ancestor (Earth-616)                         1\n",
       "Cissie Guthrie (Earth-616)                   1\n",
       "Dark (Soldiers of Misfortune) (Earth-616)    1\n",
       "Doctor Yesterday (Earth-616)                 1\n",
       "Yologarch (Earth-616)                        1\n",
       "Name: count, Length: 16376, dtype: int64"
      ]
     },
     "execution_count": 12,
     "metadata": {},
     "output_type": "execute_result"
    }
   ],
   "source": [
    "df['name'].value_counts()\n"
   ]
  },
  {
   "cell_type": "code",
   "execution_count": 13,
   "id": "cebe794d",
   "metadata": {},
   "outputs": [
    {
     "data": {
      "text/plain": [
       "align\n",
       "Злой персонаж           6720\n",
       "Добрый персонаж         4636\n",
       "Нейтральный персонаж    2208\n",
       "Name: count, dtype: int64"
      ]
     },
     "execution_count": 13,
     "metadata": {},
     "output_type": "execute_result"
    }
   ],
   "source": [
    "df['align'].value_counts()"
   ]
  },
  {
   "cell_type": "code",
   "execution_count": 7,
   "id": "6dacbf75",
   "metadata": {},
   "outputs": [
    {
     "data": {
      "text/plain": [
       "eye\n",
       "Голубые глаза            1962\n",
       "Темно-карие глаза        1924\n",
       "Зеленые глаза             613\n",
       "Черные глаза              555\n",
       "Красные глаза             508\n",
       "Белые глаза               400\n",
       "Желтые глаза              256\n",
       "Серые глаза                95\n",
       "Карие глаза                76\n",
       "Разноцветные глаза         49\n",
       "Фиолетовые глаза           31\n",
       "Оранжевые глаза            25\n",
       "Розовые глаза              21\n",
       "Один глаз                  21\n",
       "Золотые глаза              14\n",
       "Серебристые глаза          12\n",
       "Лиловые глаза              11\n",
       "Янтарные глаза             10\n",
       "Много глаз                  7\n",
       "Нет глаз                    7\n",
       "Желтые глазные яблоки       6\n",
       "Черные глазные яблоки       3\n",
       "Пурпурные глаза             2\n",
       "Фасеточные глаза            1\n",
       "Name: count, dtype: int64"
      ]
     },
     "execution_count": 7,
     "metadata": {},
     "output_type": "execute_result"
    }
   ],
   "source": [
    "df['eye'].value_counts()"
   ]
  },
  {
   "cell_type": "code",
   "execution_count": 14,
   "id": "783ba72b",
   "metadata": {},
   "outputs": [
    {
     "data": {
      "text/plain": [
       "0         True\n",
       "1         True\n",
       "2         True\n",
       "3         True\n",
       "4         True\n",
       "         ...  \n",
       "16371     True\n",
       "16372     True\n",
       "16373     True\n",
       "16374     True\n",
       "16375    False\n",
       "Name: sex, Length: 16376, dtype: bool"
      ]
     },
     "execution_count": 14,
     "metadata": {},
     "output_type": "execute_result"
    }
   ],
   "source": [
    "df['sex'] == 'Мужской персонаж'"
   ]
  },
  {
   "cell_type": "code",
   "execution_count": 22,
   "id": "a932000e",
   "metadata": {},
   "outputs": [
    {
     "data": {
      "text/plain": [
       "eye\n",
       "Темно-карие глаза        1400\n",
       "Голубые глаза            1258\n",
       "Черные глаза              394\n",
       "Красные глаза             377\n",
       "Зеленые глаза             328\n",
       "Белые глаза               292\n",
       "Желтые глаза              174\n",
       "Серые глаза                75\n",
       "Карие глаза                58\n",
       "Разноцветные глаза         28\n",
       "Один глаз                  20\n",
       "Оранжевые глаза            18\n",
       "Розовые глаза              15\n",
       "Фиолетовые глаза           15\n",
       "Золотые глаза              10\n",
       "Янтарные глаза              8\n",
       "Много глаз                  6\n",
       "Серебристые глаза           4\n",
       "Желтые глазные яблоки       4\n",
       "Нет глаз                    3\n",
       "Лиловые глаза               3\n",
       "Черные глазные яблоки       1\n",
       "Фасеточные глаза            1\n",
       "Name: count, dtype: int64"
      ]
     },
     "execution_count": 22,
     "metadata": {},
     "output_type": "execute_result"
    }
   ],
   "source": [
    "df[(df['sex'] == 'Мужской персонаж')]['eye'].value_counts()"
   ]
  },
  {
   "cell_type": "code",
   "execution_count": 23,
   "id": "e16c3d88",
   "metadata": {},
   "outputs": [
    {
     "data": {
      "text/plain": [
       "eye\n",
       "Голубые глаза            692\n",
       "Темно-карие глаза        519\n",
       "Зеленые глаза            268\n",
       "Черные глаза             137\n",
       "Белые глаза               82\n",
       "Красные глаза             77\n",
       "Желтые глаза              57\n",
       "Серые глаза               20\n",
       "Карие глаза               17\n",
       "Фиолетовые глаза          14\n",
       "Лиловые глаза              8\n",
       "Разноцветные глаза         7\n",
       "Серебристые глаза          6\n",
       "Розовые глаза              5\n",
       "Оранжевые глаза            5\n",
       "Золотые глаза              3\n",
       "Янтарные глаза             2\n",
       "Желтые глазные яблоки      2\n",
       "Черные глазные яблоки      2\n",
       "Пурпурные глаза            2\n",
       "Нет глаз                   1\n",
       "Много глаз                 1\n",
       "Один глаз                  1\n",
       "Name: count, dtype: int64"
      ]
     },
     "execution_count": 23,
     "metadata": {},
     "output_type": "execute_result"
    }
   ],
   "source": [
    "df[(df['sex'] == 'Женский персонаж')]['eye'].value_counts()"
   ]
  },
  {
   "cell_type": "code",
   "execution_count": 24,
   "id": "d824010a",
   "metadata": {},
   "outputs": [
    {
     "data": {
      "text/html": [
       "<div>\n",
       "<style scoped>\n",
       "    .dataframe tbody tr th:only-of-type {\n",
       "        vertical-align: middle;\n",
       "    }\n",
       "\n",
       "    .dataframe tbody tr th {\n",
       "        vertical-align: top;\n",
       "    }\n",
       "\n",
       "    .dataframe thead th {\n",
       "        text-align: right;\n",
       "    }\n",
       "</style>\n",
       "<table border=\"1\" class=\"dataframe\">\n",
       "  <thead>\n",
       "    <tr style=\"text-align: right;\">\n",
       "      <th></th>\n",
       "      <th>name</th>\n",
       "      <th>align</th>\n",
       "      <th>eye</th>\n",
       "      <th>hair</th>\n",
       "      <th>sex</th>\n",
       "      <th>appearances</th>\n",
       "      <th>first_appearance</th>\n",
       "    </tr>\n",
       "  </thead>\n",
       "  <tbody>\n",
       "    <tr>\n",
       "      <th>1729</th>\n",
       "      <td>Fireflyte (Earth-616)</td>\n",
       "      <td>Добрый персонаж</td>\n",
       "      <td>Пурпурные глаза</td>\n",
       "      <td>Пурпурные волосы</td>\n",
       "      <td>Женский персонаж</td>\n",
       "      <td>21.0</td>\n",
       "      <td>1981.0</td>\n",
       "    </tr>\n",
       "  </tbody>\n",
       "</table>\n",
       "</div>"
      ],
      "text/plain": [
       "                       name            align              eye  \\\n",
       "1729  Fireflyte (Earth-616)  Добрый персонаж  Пурпурные глаза   \n",
       "\n",
       "                  hair               sex  appearances  first_appearance  \n",
       "1729  Пурпурные волосы  Женский персонаж         21.0            1981.0  "
      ]
     },
     "execution_count": 24,
     "metadata": {},
     "output_type": "execute_result"
    }
   ],
   "source": [
    "df[(df['align'] == 'Добрый персонаж') & (df['eye'] == 'Пурпурные глаза')]"
   ]
  },
  {
   "cell_type": "code",
   "execution_count": 26,
   "id": "ed90b185",
   "metadata": {},
   "outputs": [
    {
     "data": {
      "text/plain": [
       "first_appearance\n",
       "1993.0    554\n",
       "1994.0    485\n",
       "1992.0    455\n",
       "2006.0    381\n",
       "2008.0    360\n",
       "         ... \n",
       "1952.0     26\n",
       "1956.0     16\n",
       "1957.0      7\n",
       "1959.0      4\n",
       "1958.0      2\n",
       "Name: count, Length: 75, dtype: int64"
      ]
     },
     "execution_count": 26,
     "metadata": {},
     "output_type": "execute_result"
    }
   ],
   "source": [
    "df['first_appearance'].value_counts()"
   ]
  },
  {
   "cell_type": "code",
   "execution_count": 28,
   "id": "d8b195a9",
   "metadata": {},
   "outputs": [
    {
     "data": {
      "text/html": [
       "<div>\n",
       "<style scoped>\n",
       "    .dataframe tbody tr th:only-of-type {\n",
       "        vertical-align: middle;\n",
       "    }\n",
       "\n",
       "    .dataframe tbody tr th {\n",
       "        vertical-align: top;\n",
       "    }\n",
       "\n",
       "    .dataframe thead th {\n",
       "        text-align: right;\n",
       "    }\n",
       "</style>\n",
       "<table border=\"1\" class=\"dataframe\">\n",
       "  <thead>\n",
       "    <tr style=\"text-align: right;\">\n",
       "      <th></th>\n",
       "      <th>name</th>\n",
       "      <th>align</th>\n",
       "      <th>eye</th>\n",
       "      <th>hair</th>\n",
       "      <th>sex</th>\n",
       "      <th>appearances</th>\n",
       "      <th>first_appearance</th>\n",
       "    </tr>\n",
       "  </thead>\n",
       "  <tbody>\n",
       "    <tr>\n",
       "      <th>0</th>\n",
       "      <td>Spider-Man (Peter Parker)</td>\n",
       "      <td>Добрый персонаж</td>\n",
       "      <td>Карие глаза</td>\n",
       "      <td>Каштановые волосы</td>\n",
       "      <td>Мужской персонаж</td>\n",
       "      <td>4043.0</td>\n",
       "      <td>1962.0</td>\n",
       "    </tr>\n",
       "    <tr>\n",
       "      <th>1</th>\n",
       "      <td>Captain America (Steven Rogers)</td>\n",
       "      <td>Добрый персонаж</td>\n",
       "      <td>Голубые глаза</td>\n",
       "      <td>Белые волосы</td>\n",
       "      <td>Мужской персонаж</td>\n",
       "      <td>3360.0</td>\n",
       "      <td>1941.0</td>\n",
       "    </tr>\n",
       "    <tr>\n",
       "      <th>2</th>\n",
       "      <td>Wolverine (James \\\"Logan\\\" Howlett)</td>\n",
       "      <td>Нейтральный персонаж</td>\n",
       "      <td>Голубые глаза</td>\n",
       "      <td>Черные волосы</td>\n",
       "      <td>Мужской персонаж</td>\n",
       "      <td>3061.0</td>\n",
       "      <td>1974.0</td>\n",
       "    </tr>\n",
       "    <tr>\n",
       "      <th>3</th>\n",
       "      <td>Iron Man (Anthony \\\"Tony\\\" Stark)</td>\n",
       "      <td>Добрый персонаж</td>\n",
       "      <td>Голубые глаза</td>\n",
       "      <td>Черные волосы</td>\n",
       "      <td>Мужской персонаж</td>\n",
       "      <td>2961.0</td>\n",
       "      <td>1963.0</td>\n",
       "    </tr>\n",
       "    <tr>\n",
       "      <th>4</th>\n",
       "      <td>Thor (Thor Odinson)</td>\n",
       "      <td>Добрый персонаж</td>\n",
       "      <td>Голубые глаза</td>\n",
       "      <td>Русые волосы</td>\n",
       "      <td>Мужской персонаж</td>\n",
       "      <td>2258.0</td>\n",
       "      <td>1950.0</td>\n",
       "    </tr>\n",
       "    <tr>\n",
       "      <th>...</th>\n",
       "      <td>...</td>\n",
       "      <td>...</td>\n",
       "      <td>...</td>\n",
       "      <td>...</td>\n",
       "      <td>...</td>\n",
       "      <td>...</td>\n",
       "      <td>...</td>\n",
       "    </tr>\n",
       "    <tr>\n",
       "      <th>402</th>\n",
       "      <td>Everett Thomas (Earth-616)</td>\n",
       "      <td>Добрый персонаж</td>\n",
       "      <td>Темно-карие глаза</td>\n",
       "      <td>NaN</td>\n",
       "      <td>Мужской персонаж</td>\n",
       "      <td>103.0</td>\n",
       "      <td>1994.0</td>\n",
       "    </tr>\n",
       "    <tr>\n",
       "      <th>404</th>\n",
       "      <td>Dorrek VIII (Earth-616)</td>\n",
       "      <td>Добрый персонаж</td>\n",
       "      <td>Голубые глаза</td>\n",
       "      <td>Русые волосы</td>\n",
       "      <td>Мужской персонаж</td>\n",
       "      <td>103.0</td>\n",
       "      <td>2005.0</td>\n",
       "    </tr>\n",
       "    <tr>\n",
       "      <th>405</th>\n",
       "      <td>Amadeus Cho (Earth-616)</td>\n",
       "      <td>Добрый персонаж</td>\n",
       "      <td>Черные глаза</td>\n",
       "      <td>Черные волосы</td>\n",
       "      <td>Мужской персонаж</td>\n",
       "      <td>103.0</td>\n",
       "      <td>2006.0</td>\n",
       "    </tr>\n",
       "    <tr>\n",
       "      <th>406</th>\n",
       "      <td>Phillip Masters (Earth-616)</td>\n",
       "      <td>Злой персонаж</td>\n",
       "      <td>Темно-карие глаза</td>\n",
       "      <td>NaN</td>\n",
       "      <td>Мужской персонаж</td>\n",
       "      <td>102.0</td>\n",
       "      <td>1962.0</td>\n",
       "    </tr>\n",
       "    <tr>\n",
       "      <th>407</th>\n",
       "      <td>Joshua Foley (Earth-616)</td>\n",
       "      <td>Добрый персонаж</td>\n",
       "      <td>Голубые глаза</td>\n",
       "      <td>Русые волосы</td>\n",
       "      <td>Мужской персонаж</td>\n",
       "      <td>101.0</td>\n",
       "      <td>2003.0</td>\n",
       "    </tr>\n",
       "  </tbody>\n",
       "</table>\n",
       "<p>277 rows × 7 columns</p>\n",
       "</div>"
      ],
      "text/plain": [
       "                                    name                 align  \\\n",
       "0              Spider-Man (Peter Parker)       Добрый персонаж   \n",
       "1        Captain America (Steven Rogers)       Добрый персонаж   \n",
       "2    Wolverine (James \\\"Logan\\\" Howlett)  Нейтральный персонаж   \n",
       "3      Iron Man (Anthony \\\"Tony\\\" Stark)       Добрый персонаж   \n",
       "4                    Thor (Thor Odinson)       Добрый персонаж   \n",
       "..                                   ...                   ...   \n",
       "402           Everett Thomas (Earth-616)       Добрый персонаж   \n",
       "404              Dorrek VIII (Earth-616)       Добрый персонаж   \n",
       "405              Amadeus Cho (Earth-616)       Добрый персонаж   \n",
       "406          Phillip Masters (Earth-616)         Злой персонаж   \n",
       "407             Joshua Foley (Earth-616)       Добрый персонаж   \n",
       "\n",
       "                   eye               hair               sex  appearances  \\\n",
       "0          Карие глаза  Каштановые волосы  Мужской персонаж       4043.0   \n",
       "1        Голубые глаза       Белые волосы  Мужской персонаж       3360.0   \n",
       "2        Голубые глаза      Черные волосы  Мужской персонаж       3061.0   \n",
       "3        Голубые глаза      Черные волосы  Мужской персонаж       2961.0   \n",
       "4        Голубые глаза       Русые волосы  Мужской персонаж       2258.0   \n",
       "..                 ...                ...               ...          ...   \n",
       "402  Темно-карие глаза                NaN  Мужской персонаж        103.0   \n",
       "404      Голубые глаза       Русые волосы  Мужской персонаж        103.0   \n",
       "405       Черные глаза      Черные волосы  Мужской персонаж        103.0   \n",
       "406  Темно-карие глаза                NaN  Мужской персонаж        102.0   \n",
       "407      Голубые глаза       Русые волосы  Мужской персонаж        101.0   \n",
       "\n",
       "     first_appearance  \n",
       "0              1962.0  \n",
       "1              1941.0  \n",
       "2              1974.0  \n",
       "3              1963.0  \n",
       "4              1950.0  \n",
       "..                ...  \n",
       "402            1994.0  \n",
       "404            2005.0  \n",
       "405            2006.0  \n",
       "406            1962.0  \n",
       "407            2003.0  \n",
       "\n",
       "[277 rows x 7 columns]"
      ]
     },
     "execution_count": 28,
     "metadata": {},
     "output_type": "execute_result"
    }
   ],
   "source": [
    " df[(df['sex'] == 'Мужской персонаж') & (df['appearances'] > 100)]"
   ]
  },
  {
   "cell_type": "code",
   "execution_count": 29,
   "id": "0e995cce",
   "metadata": {},
   "outputs": [
    {
     "data": {
      "text/plain": [
       "277"
      ]
     },
     "execution_count": 29,
     "metadata": {},
     "output_type": "execute_result"
    }
   ],
   "source": [
    " df[(df['sex'] == 'Мужской персонаж') & (df['appearances'] > 100)].shape[0]"
   ]
  },
  {
   "cell_type": "code",
   "execution_count": 32,
   "id": "53b74491",
   "metadata": {},
   "outputs": [],
   "source": [
    "#277*100/16376(всего - узнали из shape)=1.69=2%\n"
   ]
  },
  {
   "cell_type": "code",
   "execution_count": 16,
   "id": "3c805101",
   "metadata": {},
   "outputs": [
    {
     "name": "stdout",
     "output_type": "stream",
     "text": [
      "0    Голубые глаза\n",
      "Name: eye, dtype: object\n"
     ]
    }
   ],
   "source": [
    "# далее тест Какова мода по переменной eye? Выберите один верный ответ.\n",
    "print(df['eye'].mode())"
   ]
  },
  {
   "cell_type": "code",
   "execution_count": 43,
   "id": "59079a0d",
   "metadata": {},
   "outputs": [
    {
     "data": {
      "text/plain": [
       "0    Черные волосы\n",
       "Name: hair, dtype: object"
      ]
     },
     "execution_count": 43,
     "metadata": {},
     "output_type": "execute_result"
    }
   ],
   "source": [
    "df[df['sex'] == 'Мужской персонаж']['hair'].mode()"
   ]
  },
  {
   "cell_type": "code",
   "execution_count": 44,
   "id": "a53f2b90",
   "metadata": {},
   "outputs": [
    {
     "data": {
      "text/plain": [
       "0    Черные волосы\n",
       "Name: hair, dtype: object"
      ]
     },
     "execution_count": 44,
     "metadata": {},
     "output_type": "execute_result"
    }
   ],
   "source": [
    "df[df['sex'] == 'Женский персонаж']['hair'].mode()"
   ]
  },
  {
   "cell_type": "code",
   "execution_count": 17,
   "id": "ea52be13",
   "metadata": {},
   "outputs": [
    {
     "data": {
      "text/plain": [
       "3.0"
      ]
     },
     "execution_count": 17,
     "metadata": {},
     "output_type": "execute_result"
    }
   ],
   "source": [
    " df[df['align'] == 'Злой персонаж']['appearances'].median()\n",
    "    "
   ]
  },
  {
   "cell_type": "code",
   "execution_count": 46,
   "id": "65f3c469",
   "metadata": {},
   "outputs": [
    {
     "data": {
      "text/plain": [
       "9287.139461896795"
      ]
     },
     "execution_count": 46,
     "metadata": {},
     "output_type": "execute_result"
    }
   ],
   "source": [
    "df['appearances'].var(ddof = 0)"
   ]
  },
  {
   "cell_type": "code",
   "execution_count": 47,
   "id": "3c8c8b8c",
   "metadata": {},
   "outputs": [
    {
     "data": {
      "text/plain": [
       "0    1993.0\n",
       "Name: first_appearance, dtype: float64"
      ]
     },
     "execution_count": 47,
     "metadata": {},
     "output_type": "execute_result"
    }
   ],
   "source": [
    "df['first_appearance'].mode()"
   ]
  },
  {
   "cell_type": "code",
   "execution_count": 48,
   "id": "ee99ade0",
   "metadata": {},
   "outputs": [
    {
     "data": {
      "text/plain": [
       "eye\n",
       "Голубые глаза            1962\n",
       "Темно-карие глаза        1924\n",
       "Зеленые глаза             613\n",
       "Черные глаза              555\n",
       "Красные глаза             508\n",
       "Белые глаза               400\n",
       "Желтые глаза              256\n",
       "Серые глаза                95\n",
       "Карие глаза                76\n",
       "Разноцветные глаза         49\n",
       "Фиолетовые глаза           31\n",
       "Оранжевые глаза            25\n",
       "Розовые глаза              21\n",
       "Один глаз                  21\n",
       "Золотые глаза              14\n",
       "Серебристые глаза          12\n",
       "Лиловые глаза              11\n",
       "Янтарные глаза             10\n",
       "Много глаз                  7\n",
       "Нет глаз                    7\n",
       "Желтые глазные яблоки       6\n",
       "Черные глазные яблоки       3\n",
       "Пурпурные глаза             2\n",
       "Фасеточные глаза            1\n",
       "Name: count, dtype: int64"
      ]
     },
     "execution_count": 48,
     "metadata": {},
     "output_type": "execute_result"
    }
   ],
   "source": [
    "# Если посмотреть моду по всему датафрейму, то для переменной eye это будут голубые глаза. Если\n",
    "#убрать первые 500 наблюдений, то модой будут темно-карие глаза.\n",
    "#Правильный ответ: Неверно\n",
    "df['eye'].value_counts()"
   ]
  },
  {
   "cell_type": "code",
   "execution_count": 49,
   "id": "52d61e48",
   "metadata": {},
   "outputs": [],
   "source": [
    "df1=df[1:12]\n"
   ]
  },
  {
   "cell_type": "code",
   "execution_count": 18,
   "id": "c3848ab2",
   "metadata": {},
   "outputs": [],
   "source": [
    "df2=df[500:16317]\n"
   ]
  },
  {
   "cell_type": "code",
   "execution_count": 53,
   "id": "35c7c87a",
   "metadata": {},
   "outputs": [
    {
     "data": {
      "text/plain": [
       "eye\n",
       "Темно-карие глаза        1791\n",
       "Голубые глаза            1747\n",
       "Зеленые глаза             559\n",
       "Черные глаза              539\n",
       "Красные глаза             492\n",
       "Белые глаза               387\n",
       "Желтые глаза              248\n",
       "Серые глаза                83\n",
       "Карие глаза                61\n",
       "Разноцветные глаза         43\n",
       "Фиолетовые глаза           30\n",
       "Оранжевые глаза            24\n",
       "Один глаз                  20\n",
       "Розовые глаза              20\n",
       "Золотые глаза              12\n",
       "Лиловые глаза              11\n",
       "Серебристые глаза          11\n",
       "Янтарные глаза              9\n",
       "Много глаз                  7\n",
       "Нет глаз                    7\n",
       "Желтые глазные яблоки       6\n",
       "Пурпурные глаза             2\n",
       "Черные глазные яблоки       1\n",
       "Фасеточные глаза            1\n",
       "Name: count, dtype: int64"
      ]
     },
     "execution_count": 53,
     "metadata": {},
     "output_type": "execute_result"
    }
   ],
   "source": [
    "df2['eye'].value_counts()"
   ]
  },
  {
   "cell_type": "code",
   "execution_count": null,
   "id": "5ee62218",
   "metadata": {},
   "outputs": [],
   "source": [
    "#Определите моду по переменной hair, затем выберите только тех персонажей, цвет волос которых соответствует найденной моде.\n",
    "#По имеющемуся подмассиву данных по переменной appearances рассчитайте стандартное отклонение.\n",
    "#Помните, что мы работаем с генеральной совокупностью. В ответ запишите число, округлите до целого. \n"
   ]
  },
  {
   "cell_type": "code",
   "execution_count": 54,
   "id": "9e7c5d37",
   "metadata": {},
   "outputs": [
    {
     "data": {
      "text/plain": [
       "0    Черные волосы\n",
       "Name: hair, dtype: object"
      ]
     },
     "execution_count": 54,
     "metadata": {},
     "output_type": "execute_result"
    }
   ],
   "source": [
    "df['hair'].mode()"
   ]
  },
  {
   "cell_type": "code",
   "execution_count": 77,
   "id": "4d823afd",
   "metadata": {},
   "outputs": [
    {
     "data": {
      "text/plain": [
       "[0        False\n",
       " 1        False\n",
       " 2         True\n",
       " 3         True\n",
       " 4        False\n",
       "          ...  \n",
       " 16371    False\n",
       " 16372    False\n",
       " 16373    False\n",
       " 16374    False\n",
       " 16375    False\n",
       " Name: hair, Length: 16376, dtype: bool]"
      ]
     },
     "execution_count": 77,
     "metadata": {},
     "output_type": "execute_result"
    }
   ],
   "source": [
    "df1=[df['hair']=='Черные волосы']\n",
    "df1"
   ]
  },
  {
   "cell_type": "code",
   "execution_count": null,
   "id": "fe410746",
   "metadata": {},
   "outputs": [],
   "source": []
  },
  {
   "cell_type": "code",
   "execution_count": null,
   "id": "3779fb67",
   "metadata": {},
   "outputs": [],
   "source": []
  },
  {
   "cell_type": "code",
   "execution_count": 57,
   "id": "3a824e95",
   "metadata": {},
   "outputs": [
    {
     "data": {
      "text/plain": [
       "94.13253937689935"
      ]
     },
     "execution_count": 57,
     "metadata": {},
     "output_type": "execute_result"
    }
   ],
   "source": [
    "df[df['hair'] == df['hair'].mode()[0]]['appearances'].std(ddof = 0)"
   ]
  },
  {
   "cell_type": "code",
   "execution_count": 81,
   "id": "d034a320",
   "metadata": {},
   "outputs": [
    {
     "data": {
      "text/html": [
       "<div>\n",
       "<style scoped>\n",
       "    .dataframe tbody tr th:only-of-type {\n",
       "        vertical-align: middle;\n",
       "    }\n",
       "\n",
       "    .dataframe tbody tr th {\n",
       "        vertical-align: top;\n",
       "    }\n",
       "\n",
       "    .dataframe thead th {\n",
       "        text-align: right;\n",
       "    }\n",
       "</style>\n",
       "<table border=\"1\" class=\"dataframe\">\n",
       "  <thead>\n",
       "    <tr style=\"text-align: right;\">\n",
       "      <th></th>\n",
       "      <th>name</th>\n",
       "      <th>align</th>\n",
       "      <th>eye</th>\n",
       "      <th>hair</th>\n",
       "      <th>sex</th>\n",
       "      <th>appearances</th>\n",
       "      <th>first_appearance</th>\n",
       "    </tr>\n",
       "  </thead>\n",
       "  <tbody>\n",
       "    <tr>\n",
       "      <th>2</th>\n",
       "      <td>Wolverine (James \\\"Logan\\\" Howlett)</td>\n",
       "      <td>Нейтральный персонаж</td>\n",
       "      <td>Голубые глаза</td>\n",
       "      <td>Черные волосы</td>\n",
       "      <td>Мужской персонаж</td>\n",
       "      <td>3061.0</td>\n",
       "      <td>1974.0</td>\n",
       "    </tr>\n",
       "    <tr>\n",
       "      <th>3</th>\n",
       "      <td>Iron Man (Anthony \\\"Tony\\\" Stark)</td>\n",
       "      <td>Добрый персонаж</td>\n",
       "      <td>Голубые глаза</td>\n",
       "      <td>Черные волосы</td>\n",
       "      <td>Мужской персонаж</td>\n",
       "      <td>2961.0</td>\n",
       "      <td>1963.0</td>\n",
       "    </tr>\n",
       "    <tr>\n",
       "      <th>12</th>\n",
       "      <td>Namor McKenzie (Earth-616)</td>\n",
       "      <td>Нейтральный персонаж</td>\n",
       "      <td>Зеленые глаза</td>\n",
       "      <td>Черные волосы</td>\n",
       "      <td>Мужской персонаж</td>\n",
       "      <td>1528.0</td>\n",
       "      <td>NaN</td>\n",
       "    </tr>\n",
       "    <tr>\n",
       "      <th>16</th>\n",
       "      <td>Stephen Strange (Earth-616)</td>\n",
       "      <td>Добрый персонаж</td>\n",
       "      <td>Серые глаза</td>\n",
       "      <td>Черные волосы</td>\n",
       "      <td>Мужской персонаж</td>\n",
       "      <td>1307.0</td>\n",
       "      <td>1963.0</td>\n",
       "    </tr>\n",
       "    <tr>\n",
       "      <th>18</th>\n",
       "      <td>John Jonah Jameson (Earth-616)</td>\n",
       "      <td>Нейтральный персонаж</td>\n",
       "      <td>Голубые глаза</td>\n",
       "      <td>Черные волосы</td>\n",
       "      <td>Мужской персонаж</td>\n",
       "      <td>1266.0</td>\n",
       "      <td>1963.0</td>\n",
       "    </tr>\n",
       "    <tr>\n",
       "      <th>...</th>\n",
       "      <td>...</td>\n",
       "      <td>...</td>\n",
       "      <td>...</td>\n",
       "      <td>...</td>\n",
       "      <td>...</td>\n",
       "      <td>...</td>\n",
       "      <td>...</td>\n",
       "    </tr>\n",
       "    <tr>\n",
       "      <th>16304</th>\n",
       "      <td>Nick White (Earth-616)</td>\n",
       "      <td>Добрый персонаж</td>\n",
       "      <td>Голубые глаза</td>\n",
       "      <td>Черные волосы</td>\n",
       "      <td>Мужской персонаж</td>\n",
       "      <td>NaN</td>\n",
       "      <td>NaN</td>\n",
       "    </tr>\n",
       "    <tr>\n",
       "      <th>16342</th>\n",
       "      <td>Terri Lee (Earth-616)</td>\n",
       "      <td>Добрый персонаж</td>\n",
       "      <td>Темно-карие глаза</td>\n",
       "      <td>Черные волосы</td>\n",
       "      <td>Женский персонаж</td>\n",
       "      <td>NaN</td>\n",
       "      <td>NaN</td>\n",
       "    </tr>\n",
       "    <tr>\n",
       "      <th>16351</th>\n",
       "      <td>Vayor (Earth-616)</td>\n",
       "      <td>Злой персонаж</td>\n",
       "      <td>NaN</td>\n",
       "      <td>Черные волосы</td>\n",
       "      <td>Мужской персонаж</td>\n",
       "      <td>NaN</td>\n",
       "      <td>NaN</td>\n",
       "    </tr>\n",
       "    <tr>\n",
       "      <th>16366</th>\n",
       "      <td>Karen (Hijack's girlfriend) (Earth-616)</td>\n",
       "      <td>Нейтральный персонаж</td>\n",
       "      <td>Темно-карие глаза</td>\n",
       "      <td>Черные волосы</td>\n",
       "      <td>Женский персонаж</td>\n",
       "      <td>NaN</td>\n",
       "      <td>NaN</td>\n",
       "    </tr>\n",
       "    <tr>\n",
       "      <th>16369</th>\n",
       "      <td>Melanie Kapoor (Earth-616)</td>\n",
       "      <td>Добрый персонаж</td>\n",
       "      <td>Голубые глаза</td>\n",
       "      <td>Черные волосы</td>\n",
       "      <td>Женский персонаж</td>\n",
       "      <td>NaN</td>\n",
       "      <td>NaN</td>\n",
       "    </tr>\n",
       "  </tbody>\n",
       "</table>\n",
       "<p>3755 rows × 7 columns</p>\n",
       "</div>"
      ],
      "text/plain": [
       "                                          name                 align  \\\n",
       "2          Wolverine (James \\\"Logan\\\" Howlett)  Нейтральный персонаж   \n",
       "3            Iron Man (Anthony \\\"Tony\\\" Stark)       Добрый персонаж   \n",
       "12                  Namor McKenzie (Earth-616)  Нейтральный персонаж   \n",
       "16                 Stephen Strange (Earth-616)       Добрый персонаж   \n",
       "18              John Jonah Jameson (Earth-616)  Нейтральный персонаж   \n",
       "...                                        ...                   ...   \n",
       "16304                   Nick White (Earth-616)       Добрый персонаж   \n",
       "16342                    Terri Lee (Earth-616)       Добрый персонаж   \n",
       "16351                        Vayor (Earth-616)         Злой персонаж   \n",
       "16366  Karen (Hijack's girlfriend) (Earth-616)  Нейтральный персонаж   \n",
       "16369               Melanie Kapoor (Earth-616)       Добрый персонаж   \n",
       "\n",
       "                     eye           hair               sex  appearances  \\\n",
       "2          Голубые глаза  Черные волосы  Мужской персонаж       3061.0   \n",
       "3          Голубые глаза  Черные волосы  Мужской персонаж       2961.0   \n",
       "12         Зеленые глаза  Черные волосы  Мужской персонаж       1528.0   \n",
       "16           Серые глаза  Черные волосы  Мужской персонаж       1307.0   \n",
       "18         Голубые глаза  Черные волосы  Мужской персонаж       1266.0   \n",
       "...                  ...            ...               ...          ...   \n",
       "16304      Голубые глаза  Черные волосы  Мужской персонаж          NaN   \n",
       "16342  Темно-карие глаза  Черные волосы  Женский персонаж          NaN   \n",
       "16351                NaN  Черные волосы  Мужской персонаж          NaN   \n",
       "16366  Темно-карие глаза  Черные волосы  Женский персонаж          NaN   \n",
       "16369      Голубые глаза  Черные волосы  Женский персонаж          NaN   \n",
       "\n",
       "       first_appearance  \n",
       "2                1974.0  \n",
       "3                1963.0  \n",
       "12                  NaN  \n",
       "16               1963.0  \n",
       "18               1963.0  \n",
       "...                 ...  \n",
       "16304               NaN  \n",
       "16342               NaN  \n",
       "16351               NaN  \n",
       "16366               NaN  \n",
       "16369               NaN  \n",
       "\n",
       "[3755 rows x 7 columns]"
      ]
     },
     "execution_count": 81,
     "metadata": {},
     "output_type": "execute_result"
    }
   ],
   "source": [
    "df[df['hair'] == df['hair'].mode()[0]]"
   ]
  },
  {
   "cell_type": "code",
   "execution_count": 84,
   "id": "631bb1de",
   "metadata": {},
   "outputs": [
    {
     "data": {
      "text/plain": [
       "(3755, 7)"
      ]
     },
     "execution_count": 84,
     "metadata": {},
     "output_type": "execute_result"
    }
   ],
   "source": [
    "df[df['hair'] == df['hair'].mode()[0]].shape"
   ]
  },
  {
   "cell_type": "code",
   "execution_count": 87,
   "id": "4a40c748",
   "metadata": {},
   "outputs": [
    {
     "data": {
      "text/html": [
       "<div>\n",
       "<style scoped>\n",
       "    .dataframe tbody tr th:only-of-type {\n",
       "        vertical-align: middle;\n",
       "    }\n",
       "\n",
       "    .dataframe tbody tr th {\n",
       "        vertical-align: top;\n",
       "    }\n",
       "\n",
       "    .dataframe thead th {\n",
       "        text-align: right;\n",
       "    }\n",
       "</style>\n",
       "<table border=\"1\" class=\"dataframe\">\n",
       "  <thead>\n",
       "    <tr style=\"text-align: right;\">\n",
       "      <th></th>\n",
       "      <th>name</th>\n",
       "      <th>align</th>\n",
       "      <th>eye</th>\n",
       "      <th>hair</th>\n",
       "      <th>sex</th>\n",
       "      <th>appearances</th>\n",
       "      <th>first_appearance</th>\n",
       "    </tr>\n",
       "  </thead>\n",
       "  <tbody>\n",
       "    <tr>\n",
       "      <th>2</th>\n",
       "      <td>Wolverine (James \\\"Logan\\\" Howlett)</td>\n",
       "      <td>Нейтральный персонаж</td>\n",
       "      <td>Голубые глаза</td>\n",
       "      <td>Черные волосы</td>\n",
       "      <td>Мужской персонаж</td>\n",
       "      <td>3061.0</td>\n",
       "      <td>1974.0</td>\n",
       "    </tr>\n",
       "    <tr>\n",
       "      <th>3</th>\n",
       "      <td>Iron Man (Anthony \\\"Tony\\\" Stark)</td>\n",
       "      <td>Добрый персонаж</td>\n",
       "      <td>Голубые глаза</td>\n",
       "      <td>Черные волосы</td>\n",
       "      <td>Мужской персонаж</td>\n",
       "      <td>2961.0</td>\n",
       "      <td>1963.0</td>\n",
       "    </tr>\n",
       "    <tr>\n",
       "      <th>12</th>\n",
       "      <td>Namor McKenzie (Earth-616)</td>\n",
       "      <td>Нейтральный персонаж</td>\n",
       "      <td>Зеленые глаза</td>\n",
       "      <td>Черные волосы</td>\n",
       "      <td>Мужской персонаж</td>\n",
       "      <td>1528.0</td>\n",
       "      <td>NaN</td>\n",
       "    </tr>\n",
       "    <tr>\n",
       "      <th>16</th>\n",
       "      <td>Stephen Strange (Earth-616)</td>\n",
       "      <td>Добрый персонаж</td>\n",
       "      <td>Серые глаза</td>\n",
       "      <td>Черные волосы</td>\n",
       "      <td>Мужской персонаж</td>\n",
       "      <td>1307.0</td>\n",
       "      <td>1963.0</td>\n",
       "    </tr>\n",
       "    <tr>\n",
       "      <th>18</th>\n",
       "      <td>John Jonah Jameson (Earth-616)</td>\n",
       "      <td>Нейтральный персонаж</td>\n",
       "      <td>Голубые глаза</td>\n",
       "      <td>Черные волосы</td>\n",
       "      <td>Мужской персонаж</td>\n",
       "      <td>1266.0</td>\n",
       "      <td>1963.0</td>\n",
       "    </tr>\n",
       "    <tr>\n",
       "      <th>...</th>\n",
       "      <td>...</td>\n",
       "      <td>...</td>\n",
       "      <td>...</td>\n",
       "      <td>...</td>\n",
       "      <td>...</td>\n",
       "      <td>...</td>\n",
       "      <td>...</td>\n",
       "    </tr>\n",
       "    <tr>\n",
       "      <th>16304</th>\n",
       "      <td>Nick White (Earth-616)</td>\n",
       "      <td>Добрый персонаж</td>\n",
       "      <td>Голубые глаза</td>\n",
       "      <td>Черные волосы</td>\n",
       "      <td>Мужской персонаж</td>\n",
       "      <td>NaN</td>\n",
       "      <td>NaN</td>\n",
       "    </tr>\n",
       "    <tr>\n",
       "      <th>16342</th>\n",
       "      <td>Terri Lee (Earth-616)</td>\n",
       "      <td>Добрый персонаж</td>\n",
       "      <td>Темно-карие глаза</td>\n",
       "      <td>Черные волосы</td>\n",
       "      <td>Женский персонаж</td>\n",
       "      <td>NaN</td>\n",
       "      <td>NaN</td>\n",
       "    </tr>\n",
       "    <tr>\n",
       "      <th>16351</th>\n",
       "      <td>Vayor (Earth-616)</td>\n",
       "      <td>Злой персонаж</td>\n",
       "      <td>NaN</td>\n",
       "      <td>Черные волосы</td>\n",
       "      <td>Мужской персонаж</td>\n",
       "      <td>NaN</td>\n",
       "      <td>NaN</td>\n",
       "    </tr>\n",
       "    <tr>\n",
       "      <th>16366</th>\n",
       "      <td>Karen (Hijack's girlfriend) (Earth-616)</td>\n",
       "      <td>Нейтральный персонаж</td>\n",
       "      <td>Темно-карие глаза</td>\n",
       "      <td>Черные волосы</td>\n",
       "      <td>Женский персонаж</td>\n",
       "      <td>NaN</td>\n",
       "      <td>NaN</td>\n",
       "    </tr>\n",
       "    <tr>\n",
       "      <th>16369</th>\n",
       "      <td>Melanie Kapoor (Earth-616)</td>\n",
       "      <td>Добрый персонаж</td>\n",
       "      <td>Голубые глаза</td>\n",
       "      <td>Черные волосы</td>\n",
       "      <td>Женский персонаж</td>\n",
       "      <td>NaN</td>\n",
       "      <td>NaN</td>\n",
       "    </tr>\n",
       "  </tbody>\n",
       "</table>\n",
       "<p>3755 rows × 7 columns</p>\n",
       "</div>"
      ],
      "text/plain": [
       "                                          name                 align  \\\n",
       "2          Wolverine (James \\\"Logan\\\" Howlett)  Нейтральный персонаж   \n",
       "3            Iron Man (Anthony \\\"Tony\\\" Stark)       Добрый персонаж   \n",
       "12                  Namor McKenzie (Earth-616)  Нейтральный персонаж   \n",
       "16                 Stephen Strange (Earth-616)       Добрый персонаж   \n",
       "18              John Jonah Jameson (Earth-616)  Нейтральный персонаж   \n",
       "...                                        ...                   ...   \n",
       "16304                   Nick White (Earth-616)       Добрый персонаж   \n",
       "16342                    Terri Lee (Earth-616)       Добрый персонаж   \n",
       "16351                        Vayor (Earth-616)         Злой персонаж   \n",
       "16366  Karen (Hijack's girlfriend) (Earth-616)  Нейтральный персонаж   \n",
       "16369               Melanie Kapoor (Earth-616)       Добрый персонаж   \n",
       "\n",
       "                     eye           hair               sex  appearances  \\\n",
       "2          Голубые глаза  Черные волосы  Мужской персонаж       3061.0   \n",
       "3          Голубые глаза  Черные волосы  Мужской персонаж       2961.0   \n",
       "12         Зеленые глаза  Черные волосы  Мужской персонаж       1528.0   \n",
       "16           Серые глаза  Черные волосы  Мужской персонаж       1307.0   \n",
       "18         Голубые глаза  Черные волосы  Мужской персонаж       1266.0   \n",
       "...                  ...            ...               ...          ...   \n",
       "16304      Голубые глаза  Черные волосы  Мужской персонаж          NaN   \n",
       "16342  Темно-карие глаза  Черные волосы  Женский персонаж          NaN   \n",
       "16351                NaN  Черные волосы  Мужской персонаж          NaN   \n",
       "16366  Темно-карие глаза  Черные волосы  Женский персонаж          NaN   \n",
       "16369      Голубые глаза  Черные волосы  Женский персонаж          NaN   \n",
       "\n",
       "       first_appearance  \n",
       "2                1974.0  \n",
       "3                1963.0  \n",
       "12                  NaN  \n",
       "16               1963.0  \n",
       "18               1963.0  \n",
       "...                 ...  \n",
       "16304               NaN  \n",
       "16342               NaN  \n",
       "16351               NaN  \n",
       "16366               NaN  \n",
       "16369               NaN  \n",
       "\n",
       "[3755 rows x 7 columns]"
      ]
     },
     "execution_count": 87,
     "metadata": {},
     "output_type": "execute_result"
    }
   ],
   "source": [
    "df[df['hair'] == ['Черные волосы'][0]]"
   ]
  },
  {
   "cell_type": "code",
   "execution_count": null,
   "id": "0a474c15",
   "metadata": {},
   "outputs": [],
   "source": []
  }
 ],
 "metadata": {
  "kernelspec": {
   "display_name": "Python 3 (ipykernel)",
   "language": "python",
   "name": "python3"
  },
  "language_info": {
   "codemirror_mode": {
    "name": "ipython",
    "version": 3
   },
   "file_extension": ".py",
   "mimetype": "text/x-python",
   "name": "python",
   "nbconvert_exporter": "python",
   "pygments_lexer": "ipython3",
   "version": "3.11.5"
  }
 },
 "nbformat": 4,
 "nbformat_minor": 5
}
