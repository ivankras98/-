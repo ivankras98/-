{
 "cells": [
  {
   "cell_type": "markdown",
   "metadata": {},
   "source": [
    "# Визуализация данных"
   ]
  },
  {
   "cell_type": "code",
   "execution_count": null,
   "metadata": {},
   "outputs": [],
   "source": [
    "import pandas as pd\n",
    "import numpy as np\n",
    "import matplotlib.pyplot as plt\n",
    "bikes = pd.read_pickle('Data/BikesDataImputed.pkl')\n",
    "bikes.head()"
   ]
  },
  {
   "cell_type": "code",
   "execution_count": null,
   "metadata": {},
   "outputs": [],
   "source": [
    "month_weather = bikes.groupby(bikes['Date'].dt.month)['Temperature'].mean()\n",
    "month_weather"
   ]
  },
  {
   "cell_type": "code",
   "execution_count": null,
   "metadata": {},
   "outputs": [],
   "source": [
    "fig, ax = plt.subplots(figsize=(10,6))\n",
    "\n",
    "ax.bar(month_weather.index, month_weather)"
   ]
  },
  {
   "cell_type": "code",
   "execution_count": null,
   "metadata": {},
   "outputs": [],
   "source": [
    "bikes_sum = bikes.groupby(bikes['Date'].dt.isocalendar().week)['Rental Count'].sum()\n",
    "bikes_sum"
   ]
  },
  {
   "cell_type": "code",
   "execution_count": null,
   "metadata": {},
   "outputs": [],
   "source": [
    "fig, ax = plt.subplots(figsize=(10,8))\n",
    "ax.plot(bikes_sum)"
   ]
  },
  {
   "cell_type": "code",
   "execution_count": null,
   "metadata": {},
   "outputs": [],
   "source": [
    "bikes.groupby(['Seasons', 'Date'])['Rental Count'].sum()"
   ]
  },
  {
   "cell_type": "code",
   "execution_count": null,
   "metadata": {},
   "outputs": [],
   "source": [
    "fig, ax = plt.subplots(figsize=(20,8))\n",
    "ax.plot(bikes.groupby(['Seasons', 'Date'])['Rental Count'].sum().loc['Autumn'])\n",
    "ax.plot(bikes.groupby(['Seasons', 'Date'])['Rental Count'].sum().loc['Winter'])\n",
    "ax.plot(bikes.groupby(['Seasons', 'Date'])['Rental Count'].sum().loc['Spring'])\n",
    "ax.plot(bikes.groupby(['Seasons', 'Date'])['Rental Count'].sum().loc['Summer'])"
   ]
  },
  {
   "cell_type": "code",
   "execution_count": null,
   "metadata": {},
   "outputs": [],
   "source": [
    "bikes['Temperature'].describe()"
   ]
  },
  {
   "cell_type": "code",
   "execution_count": null,
   "metadata": {},
   "outputs": [],
   "source": [
    "fig, ax = plt.subplots(2,2, figsize=(20,10))\n",
    "\n",
    "ax[0][0].plot(bikes.groupby(['Seasons', 'Date'])['Temperature'].mean().loc['Autumn'], c='#ff8c69')\n",
    "ax[0][1].plot(bikes.groupby(['Seasons', 'Date'])['Temperature'].mean().loc['Winter'], c='#ff8c69')\n",
    "ax[1][0].plot(bikes.groupby(['Seasons', 'Date'])['Temperature'].mean().loc['Spring'], c='#ff8c69')\n",
    "ax[1][1].plot(bikes.groupby(['Seasons', 'Date'])['Temperature'].mean().loc['Summer'], c='#ff8c69')\n",
    "\n",
    "for axis,season in zip(ax.ravel(), ['Autumn', 'Winter', 'Spring', 'Summer']):\n",
    "    axis.set_xlabel('Date', fontsize=14)\n",
    "    axis.set_ylabel('Temperature', fontsize=14)\n",
    "    axis.spines['right'].set_visible(False)\n",
    "    axis.spines['top'].set_visible(False)\n",
    "    axis.spines['left'].set_linewidth(0.2)\n",
    "    axis.spines['bottom'].set_linewidth(0.2)\n",
    "    axis.xaxis.set_tick_params(width=0.2)\n",
    "    axis.yaxis.set_tick_params(width=0.2)\n",
    "    axis.set_ylim(-20, 39)\n",
    "    axis.axhline(12.9, c='grey', lw=0.25)\n",
    "    axis.legend([season, 'Annual average'], frameon=False, loc=2)\n",
    "\n",
    "        \n",
    "fig.suptitle('Temerature daily means by season', fontsize=20)\n",
    "fig.savefig('temps.pdf')\n",
    "fig.savefig('temps.png', dpi=100)"
   ]
  },
  {
   "cell_type": "code",
   "execution_count": null,
   "metadata": {},
   "outputs": [],
   "source": [
    "bikes['Weekend'] = np.where(bikes['Date'].dt.day_name().isin(['Saturday', 'Sunday']) + bikes['Holiday'], 1, 0)\n",
    "bikes['Rainfall and Snowfall'] = bikes['Rainfall'] * 10 + bikes['Snowfall']"
   ]
  },
  {
   "cell_type": "code",
   "execution_count": null,
   "metadata": {},
   "outputs": [],
   "source": [
    "bikes_sum = bikes.groupby('Date')['Rental Count'].sum()\n",
    "temp_av = bikes.groupby('Date')['Temperature'].mean()\n",
    "rainsnow_av = bikes.groupby('Date')['Rainfall and Snowfall'].mean()\n",
    "weekend = bikes.groupby('Date')['Weekend'].max()\n",
    "\n",
    "bikes_date = pd.concat([bikes_sum, temp_av, rainsnow_av, weekend], axis=1)"
   ]
  },
  {
   "cell_type": "code",
   "execution_count": null,
   "metadata": {},
   "outputs": [],
   "source": [
    "fig, ax = plt.subplots(figsize=(14,8))\n",
    "graph = ax.scatter(bikes_date['Temperature'], bikes_date['Rental Count'], \n",
    "           c = bikes_date['Weekend'], s = bikes_date['Rainfall and Snowfall']*10, \n",
    "           alpha = 0.7)\n",
    "plt.colorbar(graph, ticks=range(2), label='Выходной')\n",
    "\n",
    "ax.set_title('Зависимость числа арендованных велосипедов в день от температуры, дня недели и количества осадков', fontsize=14)\n",
    "ax.spines['right'].set_visible(False)\n",
    "ax.spines['top'].set_visible(False)\n",
    "ax.spines['right'].set_visible(False)\n",
    "ax.spines['top'].set_visible(False)\n",
    "ax.spines['left'].set_linewidth(0.2)\n",
    "ax.spines['bottom'].set_linewidth(0.2)\n",
    "ax.set_xlabel('Температура (градусы Цельсия)', fontsize=10)\n",
    "ax.set_ylabel('Арендованные велосипеды', fontsize=10)"
   ]
  }
 ],
 "metadata": {
  "kernelspec": {
   "display_name": "Python 3",
   "language": "python",
   "name": "python3"
  },
  "language_info": {
   "codemirror_mode": {
    "name": "ipython",
    "version": 3
   },
   "file_extension": ".py",
   "mimetype": "text/x-python",
   "name": "python",
   "nbconvert_exporter": "python",
   "pygments_lexer": "ipython3",
   "version": "3.8.5"
  }
 },
 "nbformat": 4,
 "nbformat_minor": 4
}
