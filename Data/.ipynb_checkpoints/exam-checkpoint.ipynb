{
 "cells": [
  {
   "cell_type": "code",
   "execution_count": 2,
   "metadata": {
    "ExecuteTime": {
     "end_time": "2023-11-14T20:58:47.200047Z",
     "start_time": "2023-11-14T20:58:45.757552Z"
    }
   },
   "outputs": [],
   "source": [
    "import pandas as pd\n",
    "import matplotlib.pyplot as plt\n",
    "data = pd.read_excel(\"c.xlsx\", decimal=',')"
   ]
  },
  {
   "cell_type": "code",
   "execution_count": 3,
   "metadata": {
    "ExecuteTime": {
     "end_time": "2023-11-14T20:11:05.364422Z",
     "start_time": "2023-11-14T20:11:05.359101Z"
    }
   },
   "outputs": [
    {
     "name": "stdout",
     "output_type": "stream",
     "text": [
      "0.26\n"
     ]
    }
   ],
   "source": [
    "#1\n",
    "average_na_sales = data['NA_Sales'].mean()\n",
    "print(round(average_na_sales, 2))\n",
    "# 0.26"
   ]
  },
  {
   "cell_type": "code",
   "execution_count": 4,
   "metadata": {
    "ExecuteTime": {
     "end_time": "2023-11-14T20:11:50.790912Z",
     "start_time": "2023-11-14T20:11:50.786836Z"
    }
   },
   "outputs": [
    {
     "name": "stdout",
     "output_type": "stream",
     "text": [
      "0.81\n"
     ]
    }
   ],
   "source": [
    "#2\n",
    "std_na_sales = data['NA_Sales'].std()\n",
    "print(round(std_na_sales, 2))\n",
    "# 0.81"
   ]
  },
  {
   "cell_type": "code",
   "execution_count": 5,
   "metadata": {
    "ExecuteTime": {
     "end_time": "2023-11-14T20:13:21.300776Z",
     "start_time": "2023-11-14T20:13:21.294408Z"
    }
   },
   "outputs": [
    {
     "name": "stdout",
     "output_type": "stream",
     "text": [
      "Action\n"
     ]
    }
   ],
   "source": [
    "#3\n",
    "most_common_genre = data['Genre'].value_counts().idxmax()\n",
    "print(most_common_genre)\n",
    "# Action"
   ]
  },
  {
   "cell_type": "code",
   "execution_count": 6,
   "metadata": {
    "ExecuteTime": {
     "end_time": "2023-11-14T20:16:57.207845Z",
     "start_time": "2023-11-14T20:16:57.204134Z"
    }
   },
   "outputs": [
    {
     "name": "stdout",
     "output_type": "stream",
     "text": [
      "0.07961002452299779\n"
     ]
    }
   ],
   "source": [
    "#3\n",
    "data['Platform_Coded'] = data['Platform'].apply(lambda x: 1 if x == 'PS3' else 0)\n",
    "\n",
    "average_platform_coded = data['Platform_Coded'].mean()\n",
    "print(average_platform_coded)\n",
    "# 0.07961002452299779"
   ]
  },
  {
   "cell_type": "code",
   "execution_count": 7,
   "metadata": {
    "ExecuteTime": {
     "end_time": "2023-11-14T20:20:41.602380Z",
     "start_time": "2023-11-14T20:20:41.596184Z"
    }
   },
   "outputs": [
    {
     "name": "stdout",
     "output_type": "stream",
     "text": [
      "65.6\n"
     ]
    }
   ],
   "source": [
    "#4\n",
    "filtered_data = data[(data['Publisher'] == 'Tecmo Koei') | (data['Publisher'] == \"Wanadoo\")]\n",
    "average_critic_score = filtered_data['Critic_Score'].mean()\n",
    "print(round(average_critic_score, 2))\n",
    "# 65.6"
   ]
  },
  {
   "cell_type": "code",
   "execution_count": 8,
   "metadata": {
    "ExecuteTime": {
     "end_time": "2023-11-14T20:58:37.728868Z",
     "start_time": "2023-11-14T20:58:37.718523Z"
    }
   },
   "outputs": [
    {
     "name": "stdout",
     "output_type": "stream",
     "text": [
      "6623\n"
     ]
    }
   ],
   "source": [
    "#5\n",
    "missing_developer_count = data['Developer'].isna().sum()\n",
    "print(missing_developer_count)\n",
    "# 6623"
   ]
  },
  {
   "cell_type": "code",
   "execution_count": 9,
   "metadata": {
    "ExecuteTime": {
     "end_time": "2023-11-14T20:28:01.476585Z",
     "start_time": "2023-11-14T20:28:01.470200Z"
    }
   },
   "outputs": [
    {
     "name": "stdout",
     "output_type": "stream",
     "text": [
      "6827\n"
     ]
    }
   ],
   "source": [
    "#6\n",
    "developer_mode = data['Developer'].mode()[0]\n",
    "developer_without_missing = data['Developer'].fillna(developer_mode)\n",
    "count_of_mode_values = (developer_without_missing == developer_mode).sum()\n",
    "print(count_of_mode_values)"
   ]
  },
  {
   "cell_type": "code",
   "execution_count": 10,
   "metadata": {
    "ExecuteTime": {
     "end_time": "2023-11-14T20:51:54.520858Z",
     "start_time": "2023-11-14T20:51:54.452894Z"
    }
   },
   "outputs": [
    {
     "data": {
      "image/png": "[encoded data removed]",
      "text/plain": [
       "<Figure size 640x480 with 1 Axes>"
      ]
     },
     "metadata": {},
     "output_type": "display_data"
    }
   ],
   "source": [
    "#7\n",
    "plt.scatter(data['Critic_Score'], data['EU_Sales'])\n",
    "plt.xlabel('Critic_Score')\n",
    "plt.ylabel('EU_Sales')\n",
    "plt.show()\n",
    "#d"
   ]
  },
  {
   "cell_type": "code",
   "execution_count": 11,
   "metadata": {
    "ExecuteTime": {
     "end_time": "2023-11-14T20:54:14.546044Z",
     "start_time": "2023-11-14T20:54:14.530779Z"
    }
   },
   "outputs": [
    {
     "name": "stdout",
     "output_type": "stream",
     "text": [
      "0    tbd\n",
      "Name: User_Score, dtype: object\n"
     ]
    }
   ],
   "source": [
    "#8\n",
    "user_score_mode = data['User_Score'].mode()\n",
    "print(user_score_mode)\n",
    "#0"
   ]
  },
  {
   "cell_type": "code",
   "execution_count": 12,
   "metadata": {
    "ExecuteTime": {
     "end_time": "2023-11-14T20:55:22.838620Z",
     "start_time": "2023-11-14T20:55:22.792641Z"
    }
   },
   "outputs": [
    {
     "name": "stdout",
     "output_type": "stream",
     "text": [
      "71.0\n"
     ]
    }
   ],
   "source": [
    "#9\n",
    "critic_score_median = data['Critic_Score'].median()\n",
    "print(critic_score_median)\n",
    "# 71"
   ]
  },
  {
   "cell_type": "code",
   "execution_count": 13,
   "metadata": {
    "ExecuteTime": {
     "end_time": "2023-11-14T21:01:42.490471Z",
     "start_time": "2023-11-14T21:01:42.479994Z"
    }
   },
   "outputs": [
    {
     "name": "stdout",
     "output_type": "stream",
     "text": [
      "Electronic Arts\n"
     ]
    }
   ],
   "source": [
    "#11\n",
    "filtered_data = data[(data['Year_of_Release'] >= 2000) & (data['Year_of_Release'] <= 2009)]\n",
    "company_counts = filtered_data['Publisher'].value_counts()\n",
    "most_popular_company = company_counts.idxmax()\n",
    "print(most_popular_company)\n",
    "# Electronic Arts"
   ]
  },
  {
   "cell_type": "code",
   "execution_count": 14,
   "metadata": {},
   "outputs": [
    {
     "ename": "NameError",
     "evalue": "name 'df' is not defined",
     "output_type": "error",
     "traceback": [
      "\u001b[1;31m---------------------------------------------------------------------------\u001b[0m",
      "\u001b[1;31mNameError\u001b[0m                                 Traceback (most recent call last)",
      "Cell \u001b[1;32mIn[14], line 1\u001b[0m\n\u001b[1;32m----> 1\u001b[0m most_popular_publisher_2000 \u001b[38;5;241m=\u001b[39m df[df[\u001b[38;5;124m'\u001b[39m\u001b[38;5;124mYear_of_Release\u001b[39m\u001b[38;5;124m'\u001b[39m] \u001b[38;5;241m==\u001b[39m \u001b[38;5;241m2000\u001b[39m][\u001b[38;5;124m'\u001b[39m\u001b[38;5;124mPublisher\u001b[39m\u001b[38;5;124m'\u001b[39m]\u001b[38;5;241m.\u001b[39mmode()[\u001b[38;5;241m0\u001b[39m]\n\u001b[0;32m      2\u001b[0m \u001b[38;5;28mprint\u001b[39m(\u001b[38;5;124m\"\u001b[39m\u001b[38;5;124mОтвет №12:\u001b[39m\u001b[38;5;124m\"\u001b[39m, most_popular_publisher_2000)\n",
      "\u001b[1;31mNameError\u001b[0m: name 'df' is not defined"
     ]
    }
   ],
   "source": [
    "most_popular_publisher_2000 = df[df['Year_of_Release'] == 2000]['Publisher'].mode()[0]\n",
    "print(\"Ответ №12:\", most_popular_publisher_2000)"
   ]
  },
  {
   "cell_type": "code",
   "execution_count": null,
   "metadata": {},
   "outputs": [],
   "source": []
  },
  {
   "cell_type": "code",
   "execution_count": null,
   "metadata": {},
   "outputs": [],
   "source": []
  },
  {
   "cell_type": "code",
   "execution_count": null,
   "metadata": {},
   "outputs": [],
   "source": []
  },
  {
   "cell_type": "code",
   "execution_count": null,
   "metadata": {},
   "outputs": [],
   "source": []
  },
  {
   "cell_type": "code",
   "execution_count": null,
   "metadata": {},
   "outputs": [],
   "source": []
  },
  {
   "cell_type": "code",
   "execution_count": null,
   "metadata": {},
   "outputs": [],
   "source": []
  },
  {
   "cell_type": "code",
   "execution_count": null,
   "metadata": {},
   "outputs": [],
   "source": []
  },
  {
   "cell_type": "code",
   "execution_count": null,
   "metadata": {},
   "outputs": [],
   "source": []
  },
  {
   "cell_type": "code",
   "execution_count": null,
   "metadata": {},
   "outputs": [],
   "source": []
  },
  {
   "cell_type": "code",
   "execution_count": null,
   "metadata": {},
   "outputs": [],
   "source": []
  },
  {
   "cell_type": "code",
   "execution_count": null,
   "metadata": {},
   "outputs": [],
   "source": []
  },
  {
   "cell_type": "code",
   "execution_count": null,
   "metadata": {},
   "outputs": [],
   "source": []
  },
  {
   "cell_type": "code",
   "execution_count": null,
   "metadata": {},
   "outputs": [],
   "source": []
  },
  {
   "cell_type": "code",
   "execution_count": null,
   "metadata": {},
   "outputs": [],
   "source": []
  }
 ],
 "metadata": {
  "kernelspec": {
   "display_name": "Python 3 (ipykernel)",
   "language": "python",
   "name": "python3"
  },
  "language_info": {
   "codemirror_mode": {
    "name": "ipython",
    "version": 3
   },
   "file_extension": ".py",
   "mimetype": "text/x-python",
   "name": "python",
   "nbconvert_exporter": "python",
   "pygments_lexer": "ipython3",
   "version": "3.11.5"
  }
 },
 "nbformat": 4,
 "nbformat_minor": 1
}
