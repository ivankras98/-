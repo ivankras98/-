{
 "cells": [
  {
   "cell_type": "code",
   "execution_count": 7,
   "id": "8d3422d7",
   "metadata": {},
   "outputs": [
    {
     "data": {
      "text/html": [
       "<div>\n",
       "<style scoped>\n",
       "    .dataframe tbody tr th:only-of-type {\n",
       "        vertical-align: middle;\n",
       "    }\n",
       "\n",
       "    .dataframe tbody tr th {\n",
       "        vertical-align: top;\n",
       "    }\n",
       "\n",
       "    .dataframe thead th {\n",
       "        text-align: right;\n",
       "    }\n",
       "</style>\n",
       "<table border=\"1\" class=\"dataframe\">\n",
       "  <thead>\n",
       "    <tr style=\"text-align: right;\">\n",
       "      <th></th>\n",
       "      <th>Unnamed: 0</th>\n",
       "      <th>Name</th>\n",
       "      <th>Platform</th>\n",
       "      <th>Year_of_Release</th>\n",
       "      <th>Genre</th>\n",
       "      <th>Publisher</th>\n",
       "      <th>NA_Sales</th>\n",
       "      <th>EU_Sales</th>\n",
       "      <th>JP_Sales</th>\n",
       "      <th>Other_Sales</th>\n",
       "      <th>Global_Sales</th>\n",
       "      <th>Critic_Score</th>\n",
       "      <th>Critic_Count</th>\n",
       "      <th>User_Score</th>\n",
       "      <th>User_Count</th>\n",
       "      <th>Developer</th>\n",
       "      <th>Rating</th>\n",
       "    </tr>\n",
       "  </thead>\n",
       "  <tbody>\n",
       "    <tr>\n",
       "      <th>0</th>\n",
       "      <td>0</td>\n",
       "      <td>Wii Sports</td>\n",
       "      <td>Wii</td>\n",
       "      <td>2006.0</td>\n",
       "      <td>Sports</td>\n",
       "      <td>Nintendo</td>\n",
       "      <td>41.36</td>\n",
       "      <td>28.96</td>\n",
       "      <td>3.77</td>\n",
       "      <td>8.45</td>\n",
       "      <td>82.53</td>\n",
       "      <td>76.0</td>\n",
       "      <td>51.0</td>\n",
       "      <td>8</td>\n",
       "      <td>322.0</td>\n",
       "      <td>Nintendo</td>\n",
       "      <td>E</td>\n",
       "    </tr>\n",
       "    <tr>\n",
       "      <th>1</th>\n",
       "      <td>1</td>\n",
       "      <td>Super Mario Bros.</td>\n",
       "      <td>NES</td>\n",
       "      <td>1985.0</td>\n",
       "      <td>Platform</td>\n",
       "      <td>Nintendo</td>\n",
       "      <td>29.08</td>\n",
       "      <td>3.58</td>\n",
       "      <td>6.81</td>\n",
       "      <td>0.77</td>\n",
       "      <td>40.24</td>\n",
       "      <td>NaN</td>\n",
       "      <td>NaN</td>\n",
       "      <td>NaN</td>\n",
       "      <td>NaN</td>\n",
       "      <td>NaN</td>\n",
       "      <td>NaN</td>\n",
       "    </tr>\n",
       "    <tr>\n",
       "      <th>2</th>\n",
       "      <td>2</td>\n",
       "      <td>Mario Kart Wii</td>\n",
       "      <td>Wii</td>\n",
       "      <td>2008.0</td>\n",
       "      <td>Racing</td>\n",
       "      <td>Nintendo</td>\n",
       "      <td>15.68</td>\n",
       "      <td>12.76</td>\n",
       "      <td>3.79</td>\n",
       "      <td>3.29</td>\n",
       "      <td>35.52</td>\n",
       "      <td>82.0</td>\n",
       "      <td>73.0</td>\n",
       "      <td>8.3</td>\n",
       "      <td>709.0</td>\n",
       "      <td>Nintendo</td>\n",
       "      <td>E</td>\n",
       "    </tr>\n",
       "    <tr>\n",
       "      <th>3</th>\n",
       "      <td>3</td>\n",
       "      <td>Wii Sports Resort</td>\n",
       "      <td>Wii</td>\n",
       "      <td>2009.0</td>\n",
       "      <td>Sports</td>\n",
       "      <td>Nintendo</td>\n",
       "      <td>15.61</td>\n",
       "      <td>10.93</td>\n",
       "      <td>3.28</td>\n",
       "      <td>2.95</td>\n",
       "      <td>32.77</td>\n",
       "      <td>80.0</td>\n",
       "      <td>73.0</td>\n",
       "      <td>8</td>\n",
       "      <td>192.0</td>\n",
       "      <td>Nintendo</td>\n",
       "      <td>E</td>\n",
       "    </tr>\n",
       "    <tr>\n",
       "      <th>4</th>\n",
       "      <td>4</td>\n",
       "      <td>Pokemon Red/Pokemon Blue</td>\n",
       "      <td>GB</td>\n",
       "      <td>1996.0</td>\n",
       "      <td>Role-Playing</td>\n",
       "      <td>Nintendo</td>\n",
       "      <td>11.27</td>\n",
       "      <td>8.89</td>\n",
       "      <td>10.22</td>\n",
       "      <td>1.00</td>\n",
       "      <td>31.37</td>\n",
       "      <td>NaN</td>\n",
       "      <td>NaN</td>\n",
       "      <td>NaN</td>\n",
       "      <td>NaN</td>\n",
       "      <td>NaN</td>\n",
       "      <td>NaN</td>\n",
       "    </tr>\n",
       "    <tr>\n",
       "      <th>...</th>\n",
       "      <td>...</td>\n",
       "      <td>...</td>\n",
       "      <td>...</td>\n",
       "      <td>...</td>\n",
       "      <td>...</td>\n",
       "      <td>...</td>\n",
       "      <td>...</td>\n",
       "      <td>...</td>\n",
       "      <td>...</td>\n",
       "      <td>...</td>\n",
       "      <td>...</td>\n",
       "      <td>...</td>\n",
       "      <td>...</td>\n",
       "      <td>...</td>\n",
       "      <td>...</td>\n",
       "      <td>...</td>\n",
       "      <td>...</td>\n",
       "    </tr>\n",
       "    <tr>\n",
       "      <th>16714</th>\n",
       "      <td>16714</td>\n",
       "      <td>Samurai Warriors: Sanada Maru</td>\n",
       "      <td>PS3</td>\n",
       "      <td>2016.0</td>\n",
       "      <td>Action</td>\n",
       "      <td>Tecmo Koei</td>\n",
       "      <td>0.00</td>\n",
       "      <td>0.00</td>\n",
       "      <td>0.01</td>\n",
       "      <td>0.00</td>\n",
       "      <td>0.01</td>\n",
       "      <td>NaN</td>\n",
       "      <td>NaN</td>\n",
       "      <td>NaN</td>\n",
       "      <td>NaN</td>\n",
       "      <td>NaN</td>\n",
       "      <td>NaN</td>\n",
       "    </tr>\n",
       "    <tr>\n",
       "      <th>16715</th>\n",
       "      <td>16715</td>\n",
       "      <td>LMA Manager 2007</td>\n",
       "      <td>X360</td>\n",
       "      <td>2006.0</td>\n",
       "      <td>Sports</td>\n",
       "      <td>Codemasters</td>\n",
       "      <td>0.00</td>\n",
       "      <td>0.01</td>\n",
       "      <td>0.00</td>\n",
       "      <td>0.00</td>\n",
       "      <td>0.01</td>\n",
       "      <td>NaN</td>\n",
       "      <td>NaN</td>\n",
       "      <td>NaN</td>\n",
       "      <td>NaN</td>\n",
       "      <td>NaN</td>\n",
       "      <td>NaN</td>\n",
       "    </tr>\n",
       "    <tr>\n",
       "      <th>16716</th>\n",
       "      <td>16716</td>\n",
       "      <td>Haitaka no Psychedelica</td>\n",
       "      <td>PSV</td>\n",
       "      <td>2016.0</td>\n",
       "      <td>Adventure</td>\n",
       "      <td>Idea Factory</td>\n",
       "      <td>0.00</td>\n",
       "      <td>0.00</td>\n",
       "      <td>0.01</td>\n",
       "      <td>0.00</td>\n",
       "      <td>0.01</td>\n",
       "      <td>NaN</td>\n",
       "      <td>NaN</td>\n",
       "      <td>NaN</td>\n",
       "      <td>NaN</td>\n",
       "      <td>NaN</td>\n",
       "      <td>NaN</td>\n",
       "    </tr>\n",
       "    <tr>\n",
       "      <th>16717</th>\n",
       "      <td>16717</td>\n",
       "      <td>Spirits &amp; Spells</td>\n",
       "      <td>GBA</td>\n",
       "      <td>2003.0</td>\n",
       "      <td>Platform</td>\n",
       "      <td>Wanadoo</td>\n",
       "      <td>0.01</td>\n",
       "      <td>0.00</td>\n",
       "      <td>0.00</td>\n",
       "      <td>0.00</td>\n",
       "      <td>0.01</td>\n",
       "      <td>NaN</td>\n",
       "      <td>NaN</td>\n",
       "      <td>NaN</td>\n",
       "      <td>NaN</td>\n",
       "      <td>NaN</td>\n",
       "      <td>NaN</td>\n",
       "    </tr>\n",
       "    <tr>\n",
       "      <th>16718</th>\n",
       "      <td>16718</td>\n",
       "      <td>Winning Post 8 2016</td>\n",
       "      <td>PSV</td>\n",
       "      <td>2016.0</td>\n",
       "      <td>Simulation</td>\n",
       "      <td>Tecmo Koei</td>\n",
       "      <td>0.00</td>\n",
       "      <td>0.00</td>\n",
       "      <td>0.01</td>\n",
       "      <td>0.00</td>\n",
       "      <td>0.01</td>\n",
       "      <td>NaN</td>\n",
       "      <td>NaN</td>\n",
       "      <td>NaN</td>\n",
       "      <td>NaN</td>\n",
       "      <td>NaN</td>\n",
       "      <td>NaN</td>\n",
       "    </tr>\n",
       "  </tbody>\n",
       "</table>\n",
       "<p>16719 rows × 17 columns</p>\n",
       "</div>"
      ],
      "text/plain": [
       "       Unnamed: 0                           Name Platform  Year_of_Release  \\\n",
       "0               0                     Wii Sports      Wii           2006.0   \n",
       "1               1              Super Mario Bros.      NES           1985.0   \n",
       "2               2                 Mario Kart Wii      Wii           2008.0   \n",
       "3               3              Wii Sports Resort      Wii           2009.0   \n",
       "4               4       Pokemon Red/Pokemon Blue       GB           1996.0   \n",
       "...           ...                            ...      ...              ...   \n",
       "16714       16714  Samurai Warriors: Sanada Maru      PS3           2016.0   \n",
       "16715       16715               LMA Manager 2007     X360           2006.0   \n",
       "16716       16716        Haitaka no Psychedelica      PSV           2016.0   \n",
       "16717       16717               Spirits & Spells      GBA           2003.0   \n",
       "16718       16718            Winning Post 8 2016      PSV           2016.0   \n",
       "\n",
       "              Genre     Publisher  NA_Sales  EU_Sales  JP_Sales  Other_Sales  \\\n",
       "0            Sports      Nintendo     41.36     28.96      3.77         8.45   \n",
       "1          Platform      Nintendo     29.08      3.58      6.81         0.77   \n",
       "2            Racing      Nintendo     15.68     12.76      3.79         3.29   \n",
       "3            Sports      Nintendo     15.61     10.93      3.28         2.95   \n",
       "4      Role-Playing      Nintendo     11.27      8.89     10.22         1.00   \n",
       "...             ...           ...       ...       ...       ...          ...   \n",
       "16714        Action    Tecmo Koei      0.00      0.00      0.01         0.00   \n",
       "16715        Sports   Codemasters      0.00      0.01      0.00         0.00   \n",
       "16716     Adventure  Idea Factory      0.00      0.00      0.01         0.00   \n",
       "16717      Platform       Wanadoo      0.01      0.00      0.00         0.00   \n",
       "16718    Simulation    Tecmo Koei      0.00      0.00      0.01         0.00   \n",
       "\n",
       "       Global_Sales  Critic_Score  Critic_Count User_Score  User_Count  \\\n",
       "0             82.53          76.0          51.0          8       322.0   \n",
       "1             40.24           NaN           NaN        NaN         NaN   \n",
       "2             35.52          82.0          73.0        8.3       709.0   \n",
       "3             32.77          80.0          73.0          8       192.0   \n",
       "4             31.37           NaN           NaN        NaN         NaN   \n",
       "...             ...           ...           ...        ...         ...   \n",
       "16714          0.01           NaN           NaN        NaN         NaN   \n",
       "16715          0.01           NaN           NaN        NaN         NaN   \n",
       "16716          0.01           NaN           NaN        NaN         NaN   \n",
       "16717          0.01           NaN           NaN        NaN         NaN   \n",
       "16718          0.01           NaN           NaN        NaN         NaN   \n",
       "\n",
       "      Developer Rating  \n",
       "0      Nintendo      E  \n",
       "1           NaN    NaN  \n",
       "2      Nintendo      E  \n",
       "3      Nintendo      E  \n",
       "4           NaN    NaN  \n",
       "...         ...    ...  \n",
       "16714       NaN    NaN  \n",
       "16715       NaN    NaN  \n",
       "16716       NaN    NaN  \n",
       "16717       NaN    NaN  \n",
       "16718       NaN    NaN  \n",
       "\n",
       "[16719 rows x 17 columns]"
      ]
     },
     "execution_count": 7,
     "metadata": {},
     "output_type": "execute_result"
    }
   ],
   "source": [
    "import pandas as pd\n",
    "import numpy as np\n",
    "import matplotlib.pyplot as plt\n",
    "df = pd.read_excel('Data\\c.xlsx')\n",
    "df"
   ]
  },
  {
   "cell_type": "code",
   "execution_count": 8,
   "id": "2a877c34",
   "metadata": {},
   "outputs": [
    {
     "name": "stdout",
     "output_type": "stream",
     "text": [
      "Ответ 1 =  0.26\n"
     ]
    }
   ],
   "source": [
    "Sred_znac = round(df['NA_Sales'].mean(), 2)\n",
    "print(\"Ответ 1 = \", Sred_znac)"
   ]
  },
  {
   "cell_type": "code",
   "execution_count": 26,
   "id": "4444b115",
   "metadata": {},
   "outputs": [
    {
     "name": "stdout",
     "output_type": "stream",
     "text": [
      "Ответ №2: 0.81\n"
     ]
    }
   ],
   "source": [
    "std_otkl = round(df['NA_Sales'].std(), 2)\n",
    "print(\"Ответ №2:\", std_otkl)"
   ]
  },
  {
   "cell_type": "code",
   "execution_count": 27,
   "id": "17c17c81",
   "metadata": {},
   "outputs": [
    {
     "name": "stdout",
     "output_type": "stream",
     "text": [
      "Ответ №3: Action\n"
     ]
    }
   ],
   "source": [
    "naibolee_vstr = df['Genre'].mode()[0]\n",
    "print(\"Ответ №3:\", naibolee_vstr)\n"
   ]
  },
  {
   "cell_type": "code",
   "execution_count": 23,
   "id": "ddff2302",
   "metadata": {},
   "outputs": [
    {
     "name": "stdout",
     "output_type": "stream",
     "text": [
      "0.07961002452299779\n"
     ]
    }
   ],
   "source": [
    "df['Platform_Coded'] = df['Platform'].apply(lambda x: 1 if x == 'PS3' else 0)\n",
    "\n",
    "average_platform_coded = df['Platform_Coded'].mean()\n",
    "print(average_platform_coded)\n",
    "# 0.07961002452299779"
   ]
  },
  {
   "cell_type": "code",
   "execution_count": 28,
   "id": "519fbf1d",
   "metadata": {},
   "outputs": [
    {
     "name": "stdout",
     "output_type": "stream",
     "text": [
      "Ответ №4: 65.6\n"
     ]
    }
   ],
   "source": [
    "publishers = ['Tecmo Koei', 'Wanadoo']\n",
    "sred_rating = round(df[df['Publisher'].isin(publishers)]['Critic_Score'].mean(), 2)\n",
    "print(\"Ответ №4:\", sred_rating)"
   ]
  },
  {
   "cell_type": "code",
   "execution_count": 29,
   "id": "00c53f75",
   "metadata": {},
   "outputs": [
    {
     "name": "stdout",
     "output_type": "stream",
     "text": [
      "Ответ №5: 6623\n"
     ]
    }
   ],
   "source": [
    "Prop_Znac = df['Developer'].isnull().sum()\n",
    "print(\"Ответ №5:\", Prop_Znac)"
   ]
  },
  {
   "cell_type": "code",
   "execution_count": 9,
   "id": "7d49de3c",
   "metadata": {},
   "outputs": [
    {
     "name": "stdout",
     "output_type": "stream",
     "text": [
      "Ответ №6: 204\n"
     ]
    }
   ],
   "source": [
    "mode_developer = df['Developer'].mode()[0]\n",
    "df['Developer_Imputed'] = df['Developer'].fillna(mode_developer)\n",
    "imputed_values_count = (df['Developer'] == mode_developer).sum()\n",
    "print(\"Ответ №6:\", imputed_values_count)"
   ]
  },
  {
   "cell_type": "code",
   "execution_count": 22,
   "id": "3770a382",
   "metadata": {},
   "outputs": [
    {
     "data": {
      "image/png": "[encoded data removed]",
      "text/plain": [
       "<Figure size 640x480 with 1 Axes>"
      ]
     },
     "metadata": {},
     "output_type": "display_data"
    }
   ],
   "source": [
    "plt.scatter(df['Critic_Score'], df['EU_Sales'])\n",
    "plt.xlabel('Critic_Score')\n",
    "plt.ylabel('EU_Sales')\n",
    "plt.show()"
   ]
  },
  {
   "cell_type": "code",
   "execution_count": 14,
   "id": "38a662ef",
   "metadata": {},
   "outputs": [
    {
     "name": "stdout",
     "output_type": "stream",
     "text": [
      "Ответ №8: tbd\n"
     ]
    }
   ],
   "source": [
    "mode_user = df['User_Score'].mode()[0]\n",
    "print(\"Ответ №8:\", mode_user)"
   ]
  },
  {
   "cell_type": "code",
   "execution_count": 33,
   "id": "5ea3e3a5",
   "metadata": {},
   "outputs": [
    {
     "name": "stdout",
     "output_type": "stream",
     "text": [
      "Ответ №9: 71.0\n"
     ]
    }
   ],
   "source": [
    "median = df['Critic_Score'].median()\n",
    "print(\"Ответ №9:\", median)"
   ]
  },
  {
   "cell_type": "code",
   "execution_count": 18,
   "id": "c5c82487",
   "metadata": {},
   "outputs": [
    {
     "name": "stdout",
     "output_type": "stream",
     "text": [
      "Ответ №10: 1080\n"
     ]
    }
   ],
   "source": [
    "q1 = df['User_Count'].quantile(0.25)\n",
    "q3 = df['User_Count'].quantile(0.75)\n",
    "iqr = q3 - q1\n",
    "outliers_count = ((df['User_Count'] < (q1 - 1.5 * iqr)) | (df['User_Count'] > (q3 + 1.5 * iqr))).sum()\n",
    "print(\"Ответ №10:\", outliers_count)"
   ]
  },
  {
   "cell_type": "code",
   "execution_count": 34,
   "id": "f6e1f8e6",
   "metadata": {},
   "outputs": [
    {
     "data": {
      "image/png": "[encoded data removed]",
      "text/plain": [
       "<Figure size 1000x600 with 1 Axes>"
      ]
     },
     "metadata": {},
     "output_type": "display_data"
    }
   ],
   "source": [
    "# Преобразование столбцов User_Score и Critic_Score в числовой формат\n",
    "df['User_Score'] = pd.to_numeric(df['User_Score'], errors='coerce')\n",
    "df['Critic_Score'] = pd.to_numeric(df['Critic_Score'], errors='coerce')\n",
    "\n",
    "# Фильтрация данных: выбираем только те строки, где User_Score больше на 20% чем Critic_Score\n",
    "filtered_df = df[df['User_Score'] > 1.2 * df['Critic_Score']]\n",
    "dfnew = df.dropna(subset=['Critic_Score'])\n",
    "# Проверка, что фильтрация привела к непустому набору данных\n",
    "if not dfnew.empty:\n",
    "    # Подсчет суммарного числа платформ\n",
    "    platform_counts = dfnew['Platform'].value_counts()\n",
    "\n",
    "    # Построение столбчатой диаграммы\n",
    "    platform_counts.plot(kind='bar', figsize=(10, 6), color='skyblue')\n",
    "    plt.title('Число платформ с User_Score > 20% от Critic_Score')\n",
    "    plt.xlabel('Платформа')\n",
    "    plt.ylabel('Число игр')\n",
    "    plt.show()\n",
    "else:\n",
    "    print(\"Нет данных, удовлетворяющих условиям фильтрации.\")"
   ]
  },
  {
   "cell_type": "code",
   "execution_count": 35,
   "id": "48926bb7",
   "metadata": {},
   "outputs": [
    {
     "name": "stdout",
     "output_type": "stream",
     "text": [
      "Ответ №12: Sony Computer Entertainment\n"
     ]
    }
   ],
   "source": [
    "Popular_2000 = df[df['Year_of_Release'] == 2000]['Publisher'].mode()[0]\n",
    "print(\"Ответ №12:\", Popular_2000)"
   ]
  },
  {
   "cell_type": "code",
   "execution_count": 37,
   "id": "8e658074",
   "metadata": {},
   "outputs": [
    {
     "name": "stdout",
     "output_type": "stream",
     "text": [
      "Три игры с наибольшим различием между оценкой критиков и пользователями:\n",
      "                          Name  Critic_Score  User_Score  Score_Difference\n",
      "1877                   NFL 2K1          97.0         6.0              91.0\n",
      "57         Grand Theft Auto IV          98.0         7.5              90.5\n",
      "227   Tony Hawk's Pro Skater 2          98.0         7.7              90.3\n"
     ]
    }
   ],
   "source": [
    "# Преобразование столбцов User_Score и Critic_Score в числовой формат\n",
    "df['User_Score'] = pd.to_numeric(df['User_Score'], errors='coerce')\n",
    "df['Critic_Score'] = pd.to_numeric(df['Critic_Score'], errors='coerce')\n",
    "\n",
    "# Создание столбца с различием между оценкой критиков и пользователями\n",
    "df['Score_Difference'] = df['Critic_Score'] - df['User_Score']\n",
    "\n",
    "# Нахождение трех игр с наибольшим различием\n",
    "top_3_difference_games = df.nlargest(3, 'Score_Difference')[['Name', 'Critic_Score', 'User_Score', 'Score_Difference']]\n",
    "\n",
    "print(\"Три игры с наибольшим различием между оценкой критиков и пользователями:\")\n",
    "print(top_3_difference_games)"
   ]
  },
  {
   "cell_type": "code",
   "execution_count": null,
   "id": "1bb3b6eb",
   "metadata": {},
   "outputs": [],
   "source": []
  },
  {
   "cell_type": "code",
   "execution_count": null,
   "id": "6c0e956f",
   "metadata": {},
   "outputs": [],
   "source": []
  },
  {
   "cell_type": "code",
   "execution_count": null,
   "id": "d49dc7e6",
   "metadata": {},
   "outputs": [],
   "source": []
  },
  {
   "cell_type": "code",
   "execution_count": null,
   "id": "c311034f",
   "metadata": {},
   "outputs": [],
   "source": []
  },
  {
   "cell_type": "code",
   "execution_count": null,
   "id": "f75a87c8",
   "metadata": {},
   "outputs": [],
   "source": []
  },
  {
   "cell_type": "code",
   "execution_count": null,
   "id": "b81f3048",
   "metadata": {},
   "outputs": [],
   "source": []
  },
  {
   "cell_type": "code",
   "execution_count": null,
   "id": "f2ff1d93",
   "metadata": {},
   "outputs": [],
   "source": []
  },
  {
   "cell_type": "code",
   "execution_count": null,
   "id": "74d6c498",
   "metadata": {},
   "outputs": [],
   "source": []
  },
  {
   "cell_type": "code",
   "execution_count": null,
   "id": "cec8e9e8",
   "metadata": {},
   "outputs": [],
   "source": []
  }
 ],
 "metadata": {
  "kernelspec": {
   "display_name": "Python 3 (ipykernel)",
   "language": "python",
   "name": "python3"
  },
  "language_info": {
   "codemirror_mode": {
    "name": "ipython",
    "version": 3
   },
   "file_extension": ".py",
   "mimetype": "text/x-python",
   "name": "python",
   "nbconvert_exporter": "python",
   "pygments_lexer": "ipython3",
   "version": "3.11.5"
  }
 },
 "nbformat": 4,
 "nbformat_minor": 5
}
